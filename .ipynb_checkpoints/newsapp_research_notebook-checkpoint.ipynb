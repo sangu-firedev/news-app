{
 "cells": [
  {
   "cell_type": "code",
   "execution_count": 1,
   "id": "57321b0c",
   "metadata": {},
   "outputs": [
    {
     "name": "stdout",
     "output_type": "stream",
     "text": [
      "('The BJP’s performance in neighbouring Haryana that surprised many on Tuesday '\n",
      " 'may have an impact in the upcoming Delhi elections, with local party leaders '\n",
      " 'hoping to put up a better show this time by highlighting the Centre’s '\n",
      " 'development work and welfa... [2409 chars]')\n",
      "('WHILE the Jammu and Kashmir Assembly elections seem headed towards a clear '\n",
      " 'win for the National Conference-Congress alliance, making perhaps the role '\n",
      " 'of five members to be nominated to the House redundant, the only other UT '\n",
      " 'with an Assembly where the... [3813 chars]')\n",
      "('It was 1987 and the post-war world economic order was changing with some '\n",
      " 'help from Margaret Thatcher and Ronald Reagan; this prompted John Michael '\n",
      " 'Stipe of alt-rock band R.E.M. to sing: It’s the end of the world as we know '\n",
      " 'it/ And I feel fine.\\n'\n",
      " 'Now, a... [5180 chars]')\n",
      "('On a notable political stage, former Delhi Chief Minister Arvind Kejriwal '\n",
      " 'has vacated his official residence at 6 Flagstaff Road, relocating to a new '\n",
      " \"address in the prestigious Lutyens' Zone. This transition leads him to the \"\n",
      " 'bungalow at 5 Ferozshah R... [911 chars]')\n",
      "('A 2019 decision by the Karnataka High Court, which dismissed criminal '\n",
      " 'proceedings against R Ashoka, the current BJP Leader of Opposition in '\n",
      " 'Karnataka, in an alleged land scam, has been cited by the Congress party to '\n",
      " 'argue for dropping criminal charge... [4765 chars]')\n",
      "('The vice-presidential candidates’ debate between Tim Walz and JD Vance '\n",
      " 'covered a range of topics, including abortion. On the matter, the Democratic '\n",
      " 'nominee brought up the example of Amber Thurman, a 28-year-old woman, who '\n",
      " 'died in 2022 due to Georgia’... [7795 chars]')\n",
      "('When it comes to women’s safety, there is a lot that needs to be done. How '\n",
      " 'about policemen gauging the response of their own whenever they come across '\n",
      " 'a woman in distress? Well, they can, but the question is will they? A ray of '\n",
      " 'hope, as far as women ... [5195 chars]')\n",
      "('Shinkansen, which means ’new trunk line’, has become the symbol of '\n",
      " 'post-World War II Japan and a shining example of speed and efficiency. '\n",
      " 'Today, Japan Railways operates a network that covers three of the country’s '\n",
      " 'four main islands and spans nearly 2... [8651 chars]')\n",
      "('Follow us on Image Source : FILE IMAGE Baby pygmy hippo helps a man earn Rs '\n",
      " '100 crore in just 17 days.\\n'\n",
      " 'The world of cryptocurrency seems to be abuzz over the fact that a new meme '\n",
      " 'coin has risen to storm the market, and it is nothing but Moo Deng. It ... '\n",
      " '[1572 chars]')\n",
      "(\"BJP leader N Ramchander Rao criticizes Udhayanidhi Stalin's appointment as \"\n",
      " 'Deputy CM of Tamil Nadu, claiming it reflects family interests over national '\n",
      " 'and public welfare, labeling it a classic example of family rule within the '\n",
      " 'INDI alliance.\\n'\n",
      " 'Also Re... [2055 chars]')\n"
     ]
    }
   ],
   "source": [
    "import requests\n",
    "import pprint\n",
    "import json\n",
    "\n",
    "url = ('https://gnews.io/api/v4/search?q=example&lang=en&country=in&from=2024-10-05&apikey=28b77d04cd266d208f13ece3eef002a9')\n",
    "\n",
    "response = requests.get(url)\n",
    "titles = response.json()\n",
    "#response = json.dumps(response, indent=4)\n",
    "for i in range(len(titles['articles'])):\n",
    "    pprint.pp(titles['articles'][i]['content'])\n",
    "\n",
    "#titles = titles['articles'][0]['title']\n",
    "#pprint.pp(titles)"
   ]
  },
  {
   "cell_type": "code",
   "execution_count": 3,
   "id": "92b0208f",
   "metadata": {},
   "outputs": [
    {
     "name": "stdout",
     "output_type": "stream",
     "text": [
      "Requirement already satisfied: numpy in /home/sangu/anaconda3/lib/python3.12/site-packages (2.0.2)\n",
      "Collecting numpy\n",
      "  Using cached numpy-2.1.2-cp312-cp312-manylinux_2_17_x86_64.manylinux2014_x86_64.whl.metadata (60 kB)\n",
      "Using cached numpy-2.1.2-cp312-cp312-manylinux_2_17_x86_64.manylinux2014_x86_64.whl (16.0 MB)\n",
      "Installing collected packages: numpy\n",
      "  Attempting uninstall: numpy\n",
      "    Found existing installation: numpy 2.0.2\n",
      "    Uninstalling numpy-2.0.2:\n",
      "      Successfully uninstalled numpy-2.0.2\n",
      "\u001b[31mERROR: pip's dependency resolver does not currently take into account all the packages that are installed. This behaviour is the source of the following dependency conflicts.\n",
      "streamlit 1.32.0 requires numpy<2,>=1.19.3, but you have numpy 2.1.2 which is incompatible.\n",
      "contourpy 1.2.0 requires numpy<2.0,>=1.20, but you have numpy 2.1.2 which is incompatible.\n",
      "numba 0.59.1 requires numpy<1.27,>=1.22, but you have numpy 2.1.2 which is incompatible.\n",
      "thinc 8.3.2 requires numpy<2.1.0,>=2.0.0; python_version >= \"3.9\", but you have numpy 2.1.2 which is incompatible.\n",
      "pywavelets 1.5.0 requires numpy<2.0,>=1.22.4, but you have numpy 2.1.2 which is incompatible.\u001b[0m\u001b[31m\n",
      "\u001b[0mSuccessfully installed numpy-2.1.2\n"
     ]
    }
   ],
   "source": [
    "!pip install --upgrade numpy"
   ]
  },
  {
   "cell_type": "code",
   "execution_count": null,
   "id": "5f298d76",
   "metadata": {},
   "outputs": [],
   "source": [
    "!y"
   ]
  },
  {
   "cell_type": "code",
   "execution_count": null,
   "id": "ad0ea374",
   "metadata": {},
   "outputs": [],
   "source": []
  }
 ],
 "metadata": {
  "kernelspec": {
   "display_name": "news-env",
   "language": "python",
   "name": "news-env"
  },
  "language_info": {
   "codemirror_mode": {
    "name": "ipython",
    "version": 3
   },
   "file_extension": ".py",
   "mimetype": "text/x-python",
   "name": "python",
   "nbconvert_exporter": "python",
   "pygments_lexer": "ipython3",
   "version": "3.12.3"
  }
 },
 "nbformat": 4,
 "nbformat_minor": 5
}
