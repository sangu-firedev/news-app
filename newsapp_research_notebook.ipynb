{
 "cells": [
  {
   "cell_type": "code",
   "execution_count": 1,
   "id": "57321b0c",
   "metadata": {},
   "outputs": [],
   "source": [
    "import newspaper\n",
    "import json"
   ]
  },
  {
   "cell_type": "code",
   "execution_count": 15,
   "id": "818a208c",
   "metadata": {},
   "outputs": [],
   "source": [
    "news18 = newspaper.build('https://cnn.com')"
   ]
  },
  {
   "cell_type": "code",
   "execution_count": 19,
   "id": "7748ce66",
   "metadata": {},
   "outputs": [
    {
     "name": "stdout",
     "output_type": "stream",
     "text": [
      "https://cnn.com/2024/10/16/politics/fundraising-takeaways-elon-musk-billionaires-trump/index.html\n",
      "https://cnn.com/2024/10/15/business/trump-media-stock-mysteriously-plunges/index.html\n",
      "https://cnn.com/2024/10/16/china/china-russia-military-talks-intl-hnk/index.html\n",
      "https://cnn.com/2024/10/16/sport/chess-grandmaster-kirill-shevchenko-expelled-mobile-phone-spt-intl/index.html\n",
      "https://cnn.com/2024/10/16/sport/lionel-messi-argentina-cristiano-ronaldo-record-spt-intl/index.html\n",
      "https://cnn.com/2024/10/16/entertainment/sean-diddy-combs-legal-cases/index.html\n",
      "https://cnn.com/2024/10/16/africa/nigeria-fuel-tanker-explosion-intl/index.html\n",
      "https://cnn.com/2024/10/16/climate/california-earthquake-prediction/index.html\n",
      "https://cnn.com/2024/10/16/us/milton-florida-tornado-woman-saves-lives/index.html\n",
      "https://cnn.com/2024/10/15/sport/tom-brady-las-vegas-raiders-ownership-spt-intl/index.html\n",
      "https://arabic.cnn.com/middle-east/article/2024/10/16/israels-plan-to-respond-to-irans-attack-is-ready-source-says\n",
      "https://arabic.cnn.com/middle-east/article/2024/10/16/egypt-half-naked-man-video-viral-fiancee-moi-statement\n",
      "https://arabic.cnn.com/travel/article/2024/10/16/kuwait-astronomy-photography\n",
      "https://arabic.cnn.com/middle-east/article/2024/10/16/gaza-3-generations-women-infographic\n",
      "https://arabic.cnn.com/travel/article/2024/10/16/saudi-prodan-lake-riyadh-travel\n",
      "https://arabic.cnn.com/middle-east/article/2024/10/16/saudi-mohammad-bin-salman-sisi-map-egypt-teran-sanafeer-islands-social-viral\n",
      "https://arabic.cnn.com/middle-east/article/2024/10/16/unifil-locations-lebanon-targeted-israel-map-infographic\n",
      "https://arabic.cnn.com/middle-east/video/2024/10/15/v163721-amanpour-pelosi-netanyahu-war\n",
      "https://arabic.cnn.com/entertainment/video/2024/10/15/v163744-olivia-rodrigo-fall-concert-melbourne-digvid\n",
      "https://arabic.cnn.com/miscellaneous/video/2024/10/15/v163727-houston-cars-burst-into-flames-at-apartment-complex\n",
      "https://arabic.cnn.com/miscellaneous/video/2024/10/12/v163564-alaska-woman-survives-bear-attack\n",
      "https://arabic.cnn.com/miscellaneous/video/2024/10/12/v163590-3-recover-from-swarm-of-bee-stings\n",
      "https://arabic.cnn.com/miscellaneous/video/2024/10/11/v163510-virginia-family-finds-84-y-o-biscuit-frozen-in-freezer\n",
      "https://cnnespanol.cnn.com/2024/10/16/trump-inocherencias-harris-fox-analisis-trax\n",
      "https://cnnespanol.cnn.com/2024/10/16/mexico-marca-2-0-y-hace-historia-al-dominar-a-estados-unidos-reux\n",
      "https://cnnespanol.cnn.com/2024/10/16/georgia-registra-un-record-de-votos-anticipados-trax\n",
      "https://cnnespanol.cnn.com/2024/10/16/votos-recuento-manual-norma-georgia-trax\n",
      "https://cnnespanol.cnn.com/2024/10/16/trump-declaraciones-fiv-aborto-trax\n",
      "https://cnnespanol.cnn.com/2024/10/16/milton-florida-tornado-mujer-salva-vidas-trax\n",
      "https://cnnespanol.cnn.com/2024/10/16/bomba-amenazas-india-aerolineas-canada-singapur-trax\n",
      "https://edition.cnn.com/2024/10/16/politics/fundraising-takeaways-elon-musk-billionaires-trump/index.html\n",
      "https://edition.cnn.com/2024/10/15/business/trump-media-stock-mysteriously-plunges/index.html\n",
      "https://edition.cnn.com/2024/10/16/china/china-russia-military-talks-intl-hnk/index.html\n",
      "https://edition.cnn.com/2024/10/16/sport/chess-grandmaster-kirill-shevchenko-expelled-mobile-phone-spt-intl/index.html\n",
      "https://edition.cnn.com/2024/10/16/sport/lionel-messi-argentina-cristiano-ronaldo-record-spt-intl/index.html\n",
      "https://edition.cnn.com/2024/10/16/entertainment/sean-diddy-combs-legal-cases/index.html\n",
      "https://edition.cnn.com/2024/10/16/africa/nigeria-fuel-tanker-explosion-intl/index.html\n",
      "https://edition.cnn.com/2024/10/16/climate/california-earthquake-prediction/index.html\n",
      "https://edition.cnn.com/2024/10/16/us/milton-florida-tornado-woman-saves-lives/index.html\n",
      "https://edition.cnn.com/2024/10/15/sport/tom-brady-las-vegas-raiders-ownership-spt-intl/index.html\n",
      "https://us.cnn.com/2024/10/16/sport/yankees-guardians-game-2-aaron-judge-spt-intl/index.html\n",
      "https://us.cnn.com/2024/10/16/entertainment/sean-diddy-combs-legal-cases/index.html\n",
      "https://us.cnn.com/2024/10/16/politics/fundraising-takeaways-elon-musk-billionaires-trump/index.html\n",
      "https://us.cnn.com/2024/10/16/us/milton-florida-tornado-woman-saves-lives/index.html\n",
      "https://us.cnn.com/2024/10/16/climate/california-earthquake-prediction/index.html\n",
      "https://us.cnn.com/2024/10/15/world/video/gaza-fire-israel-hospital-nada-ldn-digvid\n",
      "https://us.cnn.com/2024/10/16/politics/san-francisco-epa-supreme-court-clean-water-act/index.html\n",
      "https://us.cnn.com/2024/10/15/world/russian-man-rescued-after-67-days-adrift-sea-intl/index.html\n",
      "https://us.cnn.com/2024/10/16/china/china-russia-military-talks-intl-hnk/index.html\n",
      "https://us.cnn.com/2024/10/16/politics/house-republicans-new-york-congress/index.html\n",
      "https://www.cnn.com/2024/10/16/politics/fundraising-takeaways-elon-musk-billionaires-trump/index.html\n",
      "https://www.cnn.com/2024/10/15/business/trump-media-stock-mysteriously-plunges/index.html\n",
      "https://www.cnn.com/2024/10/16/china/china-russia-military-talks-intl-hnk/index.html\n",
      "https://www.cnn.com/2024/10/16/sport/chess-grandmaster-kirill-shevchenko-expelled-mobile-phone-spt-intl/index.html\n",
      "https://www.cnn.com/2024/10/16/sport/lionel-messi-argentina-cristiano-ronaldo-record-spt-intl/index.html\n",
      "https://www.cnn.com/2024/10/16/entertainment/sean-diddy-combs-legal-cases/index.html\n",
      "https://www.cnn.com/2024/10/16/africa/nigeria-fuel-tanker-explosion-intl/index.html\n",
      "https://www.cnn.com/2024/10/16/climate/california-earthquake-prediction/index.html\n",
      "https://www.cnn.com/2024/10/16/us/milton-florida-tornado-woman-saves-lives/index.html\n",
      "https://www.cnn.com/2024/10/15/sport/tom-brady-las-vegas-raiders-ownership-spt-intl/index.html\n"
     ]
    }
   ],
   "source": [
    "for article in news18.articles:\n",
    "    print(article.url)"
   ]
  },
  {
   "cell_type": "code",
   "execution_count": null,
   "id": "284a8ea8",
   "metadata": {},
   "outputs": [],
   "source": []
  },
  {
   "cell_type": "code",
   "execution_count": null,
   "id": "222c81fc",
   "metadata": {},
   "outputs": [],
   "source": []
  },
  {
   "cell_type": "code",
   "execution_count": 50,
   "id": "ad0ea374",
   "metadata": {},
   "outputs": [],
   "source": [
    "rep_news = newspaper.build('https://republicworld.com/', memoize_articles=False, language='hi')"
   ]
  },
  {
   "cell_type": "code",
   "execution_count": 25,
   "id": "6e11aac7",
   "metadata": {},
   "outputs": [
    {
     "data": {
      "text/plain": [
       "'republicworld.com'"
      ]
     },
     "execution_count": 25,
     "metadata": {},
     "output_type": "execute_result"
    }
   ],
   "source": [
    "rep_news.domain"
   ]
  },
  {
   "cell_type": "code",
   "execution_count": 10,
   "id": "10493064",
   "metadata": {
    "scrolled": true
   },
   "outputs": [
    {
     "name": "stdout",
     "output_type": "stream",
     "text": [
      "[source url]: https://republicworld.com/\n",
      "[source brand]: republicworld\n",
      "[source domain]: republicworld.com\n",
      "[source len(articles)]: 11\n",
      "[source description[:50]]: Breaking News: Get the latest news on politics, sp\n",
      "printing out 10 sample articles...\n",
      "\t [url]: https://republicworld.com/india/the-comeback-of-omar-abdullah-jammu-kashmir-union-territory-first-chief-minister-since-article-370-abrogation\n",
      "\t[title]: None\n",
      "\t[len of text]: 0\n",
      "\t[keywords]: []\n",
      "\t[len of html]: 0\n",
      "\t==============\n",
      "\t [url]: https://republicworld.com/sports/formula-1/latest-news-liam-lawson-to-face-f1-penalty-at-first-race-upon-return-confirms-horner\n",
      "\t[title]: None\n",
      "\t[len of text]: 0\n",
      "\t[keywords]: []\n",
      "\t[len of html]: 0\n",
      "\t==============\n",
      "\t [url]: https://republicworld.com/india/i-am-amazed-israeli-ambassador-visits-ram-temple-in-ayodhya-praises-indian-culture\n",
      "\t[title]:  'I Am Amazed...': Israeli Ambassador Visits Ram Temple in Ayodhya\n",
      "\t[len of text]: 0\n",
      "\t[keywords]: []\n",
      "\t[len of html]: 0\n",
      "\t==============\n",
      "\t [url]: https://republicworld.com/videos/global/us-backs-canada-nijjar-killing-allegations\n",
      "\t[title]:  US Supports Canada’s Nijjar Allegations After India Rebukes Trudeau\n",
      "\t[len of text]: 0\n",
      "\t[keywords]: []\n",
      "\t[len of html]: 0\n",
      "\t==============\n",
      "\t [url]: https://republicworld.com/india/places-of-worship-attacked-in-tripura-govt-suspends-net-services-removes-sp\n",
      "\t[title]:  Places of Worship Attacked In Tripura, Govt Suspends Net Services\n",
      "\t[len of text]: 0\n",
      "\t[keywords]: []\n",
      "\t[len of html]: 0\n",
      "\t==============\n",
      "\t [url]: https://republicworld.com/companies/larsen-toubro-secures-order-for-design-construction-of-agra-metro\n",
      "\t[title]: None\n",
      "\t[len of text]: 0\n",
      "\t[keywords]: []\n",
      "\t[len of html]: 0\n",
      "\t==============\n",
      "\t [url]: https://republicworld.com/market/stock-market-live-sensex-nifty-stock-market-news-live-live-news\n",
      "\t[title]:  Live: India opts for administrative spectrum allocation\n",
      "\t[len of text]: 0\n",
      "\t[keywords]: []\n",
      "\t[len of html]: 0\n",
      "\t==============\n",
      "\t [url]: https://republicworld.com/market/government-to-sell-up-to-5-stake-in-cochin-shipyard\n",
      "\t[title]:  Government to sell up to 5% stake in Cochin Shipyard\n",
      "\t[len of text]: 0\n",
      "\t[keywords]: []\n",
      "\t[len of html]: 0\n",
      "\t==============\n",
      "\t [url]: https://www.republicworld.com/india/the-comeback-of-omar-abdullah-jammu-kashmir-union-territory-first-chief-minister-since-article-370-abrogation\n",
      "\t[title]: None\n",
      "\t[len of text]: 0\n",
      "\t[keywords]: []\n",
      "\t[len of html]: 0\n",
      "\t==============\n",
      "\t [url]: https://www.republicworld.com/sports/formula-1/latest-news-liam-lawson-to-face-f1-penalty-at-first-race-upon-return-confirms-horner\n",
      "\t[title]: None\n",
      "\t[len of text]: 0\n",
      "\t[keywords]: []\n",
      "\t[len of html]: 0\n",
      "\t==============\n",
      "feed_urls: []\n",
      "\r\n",
      "\n",
      "category_urls: ['https://republicworld.com/', 'https://republicworld.com/opinion', 'https://republicworld.com/videos', 'https://republicworld.com/lifestyle', 'https://republicworld.com/health', 'https://republicworld.com/latest-news', 'https://republicworld.com/entertainment', 'https://republicworld.com/education', 'https://republicworld.com/india', 'https://republicworld.com/sports', 'https://republicworld.com/world-news', 'https://republicworld.com/rss', 'https://republicworld.com/livetv', 'https://republicworld.com/business', 'https://republicworld.com/shorts', 'https://republicworld.com/polls', 'https://republicworld.com/quick', 'https://republicworld.com/web-stories', 'https://www.republicworld.com', 'https://republicworld.com/tech', 'https://republicworld.com/defence', 'https://republicworld.com/elections', 'https://republicworld.com/viral']\n"
     ]
    }
   ],
   "source": [
    "rep_news.print_summary()"
   ]
  },
  {
   "cell_type": "code",
   "execution_count": 11,
   "id": "c1b81049",
   "metadata": {},
   "outputs": [
    {
     "data": {
      "text/plain": [
       "<bound method Source.categories_to_articles of <newspaper.source.Source object at 0x7f23647e05f0>>"
      ]
     },
     "execution_count": 11,
     "metadata": {},
     "output_type": "execute_result"
    }
   ],
   "source": [
    "rep_news.categories_to_articles"
   ]
  },
  {
   "cell_type": "code",
   "execution_count": 51,
   "id": "3cd36387",
   "metadata": {
    "scrolled": true
   },
   "outputs": [
    {
     "name": "stdout",
     "output_type": "stream",
     "text": [
      "https://www.republicworld.com/india/big-breaking-sky-marshals-on-flights-to-be-doubled-amid-growing-bomb-threats\n",
      "https://www.republicworld.com/india/s-jaishankar-cites-3-evils-at-sco-summit-in-pakistan-address-speech-islamabad-terrorism-extremism-separatism\n",
      "https://www.republicworld.com/india/breaking-omar-abdullah-takes-oath-as-jammu-kashmir-cm-live-calls-for-restoration-of-statehood-updates\n",
      "https://www.republicworld.com/india/baba-siddique-s-killers-learned-to-shoot-by-watching-youtube-videos\n",
      "https://www.republicworld.com/world-news/hezbollah-vows-to-expand-attacks-in-israel-after-deadly-strike-in-northern-lebanon\n",
      "https://www.republicworld.com/world-news/us-accuses-new-delhi-nijjar-killing-probe-india-canada-diplomatic-ties-hit-new-low-justin-trudeau-raw-indian-diplomats\n",
      "https://republicworld.com/india/big-breaking-sky-marshals-on-flights-to-be-doubled-amid-growing-bomb-threats\n",
      "https://republicworld.com/india/jaishankar-in-pakistan-eam-sco-jammu-kashmir-omar-abdullah-chennai-rains-tamil-nadu-murmu-algeria-narendra-modi-mk-stalin-aap-bjp-congress-doctors-protest-kolkata-rape-case-india-live-news-updates-today-october-16-live-news\n",
      "https://republicworld.com/india/flights-receive-bomb-threats-in-last-48-hours-security-tightened-air-india-akasa-indigo-spicejet-alliance-air-air-india-express\n",
      "https://republicworld.com/india/breaking-bengaluru-bound-akasa-air-flight-returns-to-delhi-after-bomb-threat\n",
      "https://republicworld.com/india/indigo-mumbai-delhi-flight-diverted-to-ahmedabad-after-bomb-threat\n",
      "https://republicworld.com/india/hoax-bomb-threats-to-flights-chhattisgarh-teen-father-summoned-by-mumbai-cops\n",
      "https://republicworld.com/india/air-india-express-flight-makes-emergency-landing-at-ayodhya-airport-following-bomb-threat\n",
      "https://republicworld.com/world-news/canadian-spy-agency-chief-cited-pakistans-support-to-khalistani-extremism-just-weeks-ago-i-watch-india-canada-row-nijjar-killing\n",
      "https://republicworld.com/world-news/nijjar-killing-india-canada-diplomatic-row-after-hollow-allegations-shutdown-calls-for-indian-missions-in-vancouver-toronto\n",
      "https://republicworld.com/world-news/us-accuses-new-delhi-nijjar-killing-probe-india-canada-diplomatic-ties-hit-new-low-justin-trudeau-raw-indian-diplomats\n",
      "https://republicworld.com/india/s-jaishankar-cites-3-evils-at-sco-summit-in-pakistan-address-speech-islamabad-terrorism-extremism-separatism\n",
      "https://republicworld.com/india/breaking-news-k-marigowda-resigns-siddaramaiah-muda-scam-karnataka-news-latest-live-updates\n",
      "https://republicworld.com/india/7th-pay-commission-dearness-allowance-3-percent-hike-for-central-government-employees-cleared-ahead-of-diwali\n",
      "https://republicworld.com/india/breaking-omar-abdullah-takes-oath-as-jammu-kashmir-cm-live-calls-for-restoration-of-statehood-updates\n",
      "https://republicworld.com/india/breaking-congress-not-part-of-omar-abdullah-led-cabinet-in-jk-to-support-from-outside\n",
      "https://republicworld.com/india/baba-siddique-s-killers-learned-to-shoot-by-watching-youtube-videos\n",
      "https://republicworld.com/india/breaking-chief-election-commissioner-rajiv-kumar-s-helicopter-makes-emergency-landing-in-uttarakhand\n",
      "https://republicworld.com/world-news/s-jaishankar-s-morning-stroll-with-indian-high-commission-members-in-pakistan-see-pic\n",
      "https://republicworld.com/india/bengaluru-rains-live-updates-schools-shut-wfh-advisory-for-it-firms-private-companies-tech-parks-amid-orange-alert-bangalore-heavy-traffic-snarls\n",
      "https://republicworld.com/world-news/inappropriate-us-raises-concerns-over-bomb-threats-to-air-india\n",
      "https://republicworld.com/world-news/jagmeet-singh-calls-for-sanctions-on-indian-envoys-exits-room-to-sound-of-roaring-laughter-video\n",
      "https://republicworld.com/india/rape-accused-granted-bail-by-allahabad-hc-after-he-promises-to-marry-victim-take-care-of-infant\n",
      "https://republicworld.com/india/this-is-not-political-matter-sc-raps-punjab-haryana-govt-over-non-compliance-in-stubble-burning\n",
      "https://republicworld.com/india/breaking-massive-fire-breaks-out-at-a-14-storey-riya-palace-building-in-mumbai-lokhandwala-3-injured\n",
      "https://republicworld.com/india/bengaluru-rains-city-weather-today-warning-areas-to-avoid-check-traffic-diversions\n",
      "https://republicworld.com/india/i-am-amazed-israeli-ambassador-visits-ram-temple-in-ayodhya-praises-indian-culture\n",
      "https://republicworld.com/world-news/it-s-a-smart-thing-to-do-trump-indicates-speaking-to-russian-prez-putin-could-benefit-us\n",
      "https://republicworld.com/world-news/israel-strikes-southern-suburbs-of-beirut-for-the-first-time-in-five-days\n",
      "https://republicworld.com/entertainment/tamil-cinema/rajinikanth-s-poes-garden-house-in-chennai-flooded-video-goes-viral\n",
      "https://republicworld.com/viral/watch-fake-cop-tries-to-scam-woman-for-50000-in-mumbai-video-goes-viral\n",
      "https://republicworld.com/viral/german-ambassador-celebrates-new-ev-switch-with-nimbu-mirchi-and-coconut-watch\n",
      "https://republicworld.com/india/five-workers-die-from-asphyxiation-while-cleaning-tank-at-gujarat-agrotech-firm\n",
      "https://republicworld.com/videos/sports/ashwin-bumrah-pant-shine-in-india-win\n",
      "https://republicworld.com/videos/sports/football/football-star-owns-up-fifa-qualifiers\n",
      "https://republicworld.com/entertainment/bollywood/karwa-chauth-2024-anant-ambani-radhika-merchant-to-aditi-rao-siddharth-newlyweds-prepare-for-1st-celebration\n",
      "https://republicworld.com/entertainment/bollywood/ananya-panday-shades-ex-aditya-roy-kapur-with-her-head-turning-accessory-at-ctrl-success-bash-photos\n",
      "https://republicworld.com/entertainment/meet-nandu-aka-ajay-pal-akshay-kumar-s-co-star-in-anti-smoking-ad-and-the-actor-in-every-movie-cbfc\n",
      "https://republicworld.com/entertainment/bollywood/citadel-honey-bunny-meet-the-child-artist-playing-young-priyanka-chopra-in-varun-dhawan-samantha-ruth-prabhu-starrer-kashvi-majmundar\n",
      "https://republicworld.com/sports/cricket/latest-news-controversy-engulfs-ind-vs-nz-womens-t20-world-cup-match-umpire-decision-agonises-harmanpreet-kaur\n",
      "https://republicworld.com/india/bihar-bypoll-tarari-candidate-lieutenant-general-krishna-singh-ex-army-vice-chief-named-jan-suraaj-bypoll-prashant-kishore-party\n",
      "https://republicworld.com/india/fake-call-centre-used-for-cybercrime-busted-in-odisha-s-sundarpada-six-detained\n",
      "https://republicworld.com/india/car-plunges-into-deep-gorge-in-himchal-s-shimla-3-dead\n",
      "https://republicworld.com/india/bahraich-violence-no-internet-for-third-day-security-beefed-up-along-nepal-border\n",
      "https://republicworld.com/india/man-ends-life-days-after-alleged-assault-for-stalking-girl-abetment-case-registered\n",
      "https://republicworld.com/world-news/over-90-killed-50-injured-after-gasoline-tanker-explodes-in-nigeria\n",
      "https://republicworld.com/world-news/former-pak-pm-imran-khan-in-dark-jail-cell-denied-family-and-lawyer-visit-ex-wife-jemima-goldsmith\n",
      "https://republicworld.com/world-news/canadian-air-force-plane-ferries-stranded-air-india-passengers-from-iqaluit-airport-to-chicago\n",
      "https://republicworld.com/world-news/russia-releases-man-whose-daughter-s-drawing-opposed-ukraine-war-envasion-military\n",
      "https://republicworld.com/sports/cricket/cricket-australia-announces-the-schedule-for-home-ashes-in-2025-iconic-test-venue-perth-set-for-debut\n",
      "https://republicworld.com/sports/football/lionel-messi-matches-cristiano-ronaldo-s-massive-record-after-argentina-s-victory-against-bolivia\n",
      "https://republicworld.com/sports/cricket/1st-test-rain-washes-out-opening-session-at-bengaluru\n",
      "https://republicworld.com/sports/cricket/virat-kohli-gets-rousing-reception-at-m-chinnaswamy-as-ind-nz-test-gets-delayed-due-to-rain-watch\n",
      "https://republicworld.com/sports/cricket/harmanpreet-kaur-to-be-sacked-as-india-captain-after-women-s-t20-wc-debacle-bcci-to-discuss-future-latest-news\n",
      "https://republicworld.com/business/adani-green-defers-12-bn-bond-sale\n",
      "https://republicworld.com/business/consultation-process-to-consider-all-inputs-take-calibrated-view-trai-chief-on-satcom-spectrum\n",
      "https://republicworld.com/business/industry/hyundai-india-s-record-33-bln-ipo-subscribed-18-on-first-day-of-bidding\n",
      "https://republicworld.com/business/sensex-opens-240-points-higher-nifty-up-026-following-asian-peers\n",
      "https://republicworld.com/business/india-has-opportunity-to-create-most-innovative-products-of-next-generation-boeing-india-president\n",
      "https://republicworld.com/business/sunil-mittal-and-ambani-advocated-for-spectrum-purchases-by-satellite-companies\n",
      "https://republicworld.com/business/india-less-exposed-to-potential-us-tariff-rises-fitch-ratings\n",
      "https://republicworld.com/business/retail-inflation-rose-from-365-in-august-to-549-in-sept\n",
      "https://republicworld.com/business/indian-markets-outperform-china-on-returns-over-last-5-yrs-sebi-official\n",
      "https://republicworld.com/business/retail-inflation-is-likely-to-surge-to-5-in-september\n",
      "https://republicworld.com/shorts/india/iaf-inaugural-landing-navi-mumbai-airport\n",
      "https://republicworld.com/shorts/india/vinesh-phogat-feels-good-after-debut-win\n",
      "https://republicworld.com/shorts/global/israeli-flag-half-mast-oct-7-anniversary\n",
      "https://republicworld.com/shorts/india/man-performs-garba-wearing-modi-mask\n",
      "https://republicworld.com/shorts/india/iaf-helicopter-crashes-muzaffarpur-relief-mission\n",
      "https://republicworld.com/shorts/entertainment/ananya-panday-spotted-in-conversation-with-film-distributor-anil-thadani\n",
      "https://republicworld.com/shorts/global/biden-forgets-pm-modi-name-quad-summit\n",
      "https://republicworld.com/shorts/entertainment/pashmina-roshan-spotted-outside-gym-in-no-makeup-look\n",
      "https://republicworld.com/shorts/entertainment/kareena-kapoor-steps-out-in-style\n",
      "https://republicworld.com/shorts/entertainment/tejasswi-prakash-oozes-summer-vibes-in-floral-midi-dress\n",
      "https://republicworld.com/shorts/lifestyle/sonam-kapoor-s-coffee-brown-suit-is-the-perfect-blend-of-style-and-comfort\n",
      "https://republicworld.com/shorts/entertainment/kriti-sanon-rocks-chic-jacket-and-top-combo\n",
      "https://republicworld.com/shorts/entertainment/siddharth-nigam-flaunts-effortless-style-in-denims\n",
      "https://republicworld.com/shorts/lifestyle/kiara-advani-gives-major-fashion-goals-in-blue-co-ord-set\n",
      "https://republicworld.com/entertainment/reviews/movies/sector-36-review-vikrant-massey-fails-to-bring-out-horror-in-story-inspired-by-nithari-killings-netflix-surinder-koli-moninder-singh-pandher\n",
      "https://republicworld.com/entertainment/bollywood/emergency-release-postponed-what-are-the-sgpc-sikh-portrayal-objections-against-kangana-ranaut-cbfc-censor-board-starrer-movie-ban\n",
      "https://republicworld.com/entertainment/ott/web-series/game-of-thrones-iron-throne-replica-sells-for-125-crore-at-auction\n",
      "https://republicworld.com/entertainment/television/bigg-boss-18-vivian-dsena-recalls-his-first-meeting-with-wife-nouran-aly-says-4-mahine-wait\n",
      "https://republicworld.com/entertainment/celebrities/nick-jonas-jiju-in-danger-desi-fans-worried-for-nick-jonas-after-prague-concert-threat-viral-priyanka-chopra\n",
      "https://republicworld.com/entertainment/malayalam-cinema/l2-empuraan-first-look-prithviraj-sukumaran-as-zayed-masood-the-emperor-s-general-is-combat-ready\n",
      "https://republicworld.com/entertainment/diljit-dosanjh-net-worth-lover-singer-owns-houses-in-california-toronto-multiple-luxury-cars\n",
      "https://republicworld.com/entertainment/ott/vikrant-massey-s-sector-36-revisits-gruesome-nithari-killing-the-true-story-will-give-you-nightmare-surinder-koli-moninder-singh-pandher\n",
      "https://republicworld.com/entertainment/bollywood/deepika-padukone-ranveer-singh-reel-to-real-life-couple-reigns-over-bollywood-box-office-ram-leela-bajirao-mastani-padmaavat-83-ranbir-kapoor-alia-bhatt\n",
      "https://republicworld.com/web-stories/entertainment/ic-814-the-kandahar-hijack-what-is-the-real-story-of-vijay-varma-starrer\n",
      "https://republicworld.com/web-stories/lifestyle/how-to-make-scrumptious-crispy-dry-fruit-malpua-step-by-step-guide\n",
      "https://republicworld.com/web-stories/lifestyle/10-ways-to-save-money-on-everyday-purchases\n",
      "https://republicworld.com/web-stories/entertainment/karisma-kapoor-grace-the-ramp-as-showstoppers-at-lakme-fashion-week\n",
      "https://republicworld.com/web-stories/lifestyle/preparing-your-house-for-diwali-2024-know-dos-and-don-ts-of-cleaning\n",
      "https://republicworld.com/web-stories/lifestyle/10-hanging-plants-that-can-improve-air-quality\n",
      "https://republicworld.com/web-stories/lifestyle/top-10-countries-where-indians-can-easily-secure-a-visa-without-much-hassle\n",
      "https://republicworld.com/web-stories/lifestyle/unique-indian-comfort-soups-to-warm-you-up-this-autumn\n",
      "https://republicworld.com/web-stories/entertainment/rajkummar-rao-triptii-dimri-exude-charm-at-vicky-vidya-ka-woh-wala-video-promotions\n",
      "https://republicworld.com/web-stories/lifestyle/sloth-to-strafish-world-s-slowest-moving-animals\n",
      "https://republicworld.com/web-stories/lifestyle/korean-skin-care-tips-inspired-by-bts-suga-men\n",
      "https://republicworld.com/defence/indian-armed-forces/drdo-and-iit-delhi-develop-abhed-bulletproof-jackets-revolutionizing-soldier-protection\n",
      "https://republicworld.com/defence/indian-armed-forces/indo-oman-military-exercise-al-najah-v-2024-in-full-swing-with-focus-on-modern-combat-techniques\n",
      "https://republicworld.com/defence/indian-armed-forces/how-the-indian-armys-1959-honour-code-shames-odisha-polices-2024-failure-in-defending-women\n",
      "https://republicworld.com/defence/indian-armed-forces/air-marshal-amar-preet-singh-appointed-as-next-chief-of-air-staff-to-lead-iaf-from-september-30\n",
      "https://republicworld.com/defence/indian-armed-forces/indian-navys-women-officers-set-for-historic-global-circumnavigation-on-insv-tarini\n",
      "https://republicworld.com/opinion/pakistan-navy-day-islamabad-s-naval-fleet-still-dependent-on-beijing-for-survival\n",
      "https://republicworld.com/opinion/googles-third-place-cloud-business-is-a-winner\n",
      "https://republicworld.com/opinion/rss-100-looking-back-looking-forward-ratan-sharda-swayamsevak\n",
      "https://republicworld.com/opinion/2024-verdict-restoration-of-balance-or-reiteration-of-continuity\n",
      "https://republicworld.com/tech/gadgets/google-announces-new-features-for-pixel-9-series-pixel-8-series-more-top-features\n",
      "https://republicworld.com/tech/consultation-process-to-consider-all-inputs-take-calibrated-view-for-satcom-spectrum-trai-chief\n",
      "https://republicworld.com/automobile/india-needs-to-step-up-manufacturing-to-meet-viksit-bharat-goal-volvo-group-india-md\n",
      "https://republicworld.com/automobile/maruti-suzuki-baleno-regal-edition-launched-for-festive-season-available-across-all-variants\n",
      "https://republicworld.com/automobile/jlr-retail-sales-up-36-to-3214-units-in-april-september-2024\n",
      "https://republicworld.com/automobile/nitin-gadkari-urges-automobile-industry-to-promote-ethanol-flex-fuels\n",
      "https://republicworld.com/tech/adoption-constraints-remain-but-99-pc-indian-biz-see-genai-as-crucial-for-success-survey\n",
      "https://republicworld.com/tech/apple-launches-ipad-mini-2024-with-double-storage-faster-chip\n",
      "https://republicworld.com/tech/delhi-government-rolls-out-ai-enabled-violation-detection-system-to-enhance-road-safety\n",
      "https://republicworld.com/tech/airtel-s-sunil-mittal-joins-ambani-to-pitch-for-satellite-companies-buying-spectrum\n",
      "https://republicworld.com/lifestyle/food/pop-grandmas-homemade-caramel-corn-with-just-seven-ingredients\n",
      "https://republicworld.com/lifestyle/fashion/who-are-valentina-sampaio-and-alex-consani-meet-victorias-secret-first-trans-women-models\n",
      "https://republicworld.com/lifestyle/fashion/victorias-secret-fashion-show-returns-after-5-year-hiatus-blackpinks-lisa-stuns-in-3-sultry-looks\n",
      "https://republicworld.com/lifestyle/follow-these-ways-to-avoid-consuming-fake-olive-oil\n",
      "https://republicworld.com/lifestyle/festivals/world-students-day-2024-recalling-milestone-contributions-of-dr-apj-abdul-kalam\n",
      "https://republicworld.com/health/us-millionaire-bryan-johnson-undergoes-plasma-transformation-calls-it-liquid-gold\n",
      "https://republicworld.com/health/cji-dy-chandrachud-discloses-his-daughters-have-nemaline-myopathy-know-about-this-condition\n",
      "https://republicworld.com/health/who-approves-bavarian-nordic-s-mpox-vaccine-for-adolescents\n",
      "https://republicworld.com/health/keep-these-essential-tips-handy-to-reduce-the-risk-of-uti\n",
      "https://republicworld.com/health/world-mental-health-day-2024-tips-to-maintain-healthy-well-being-at-work\n",
      "https://republicworld.com/opinion/is-rahul-riding-the-khalistan-tiger\n",
      "https://republicworld.com/opinion/pm-modi-s-balancing-act-navigating-peace-between-russia-and-ukraine\n",
      "https://republicworld.com/opinion/india-s-urge-to-sustain-peace-a-pledge-to-vasudeva-kutumbakam\n",
      "https://republicworld.com/opinion/donald-trump-s-shooting-will-ensure-he-is-president-again-barrack-obama-s-ex-advisor-us-elections\n",
      "https://republicworld.com/opinion/is-this-indias-decade-modis-decade-1\n",
      "https://republicworld.com/opinion/disney-ceo-bob-iger-has-a-lingering-legacy-problem\n",
      "https://republicworld.com/opinion/lok-sabha-2024-blowin-in-the-wind-for-congress\n",
      "https://republicworld.com/opinion/opinion-horrific-accounts-of-women-allegedly-raped-by-tmc-goons-are-stuff-of-horror-stories\n",
      "https://republicworld.com/opinion/shale-twins-26-bln-deal-can-afford-to-be-pricey\n",
      "https://republicworld.com/opinion/meta-investors-take-wins-now-forget-about-later\n",
      "https://republicworld.com/opinion/overdraft-fee-reform-has-a-big-small-bank-flaw\n",
      "https://republicworld.com/opinion/ahmedabad-will-be-indias-next-silicon-valley\n",
      "https://republicworld.com/opinion/blackrock-deal-buys-larry-fink-optionality-on-exit\n",
      "https://republicworld.com/opinion/gen-alpha-will-tire-of-living-online\n",
      "https://republicworld.com/opinion/new-york-times-arrives-in-new-tech-with-ai-lawsuit\n",
      "https://republicworld.com/opinion/green-investors-will-learn-the-art-of-stockpicking\n",
      "https://republicworld.com/videos/india/5-of-7-doctors-hunger-strike-hospitalised\n",
      "https://republicworld.com/videos/business/hyundai-ipo-game-changer-automotive-market\n",
      "https://republicworld.com/videos/global/us-backs-canada-nijjar-killing-allegations\n",
      "https://republicworld.com/videos/india/india-canada-row-jaishankar-remarks-extremism\n",
      "https://republicworld.com/videos/global/jaishankar-3-evils-sco-summit-pakistan\n",
      "https://republicworld.com/videos/global/canada-hints-sanctions-india-nijjar-killing\n",
      "https://republicworld.com/videos/india/omar-abdullah-oath-jk-cm-oct-16\n",
      "https://republicworld.com/videos/india/canadian-envoy-summoned-ministry-of-external-affairs\n",
      "https://republicworld.com/videos/india/calcutta-high-court-rejects-sandip-ghosh-plea\n",
      "https://republicworld.com/videos/global/mechazilla-giant-arms-catch-spacex-starship\n",
      "https://republicworld.com/videos/india/nita-ambani-tribute-sir-ratan-tata\n",
      "https://republicworld.com/lifestyle/beauty/follow-these-tips-to-protect-your-skin-from-diwali-pollution\n",
      "https://republicworld.com/lifestyle/lothal-highlights-spirit-of-ingenuity-our-ancestors-possessed-pm-narendra-modi\n",
      "https://republicworld.com/lifestyle/fitness/skip-these-exercises-to-manage-hypertension\n",
      "https://republicworld.com/lifestyle/fashion/samantha-ruth-prabhu-s-all-black-style-steals-spotlight-at-citadel-launch\n",
      "https://republicworld.com/lifestyle/fashion/rohit-bal-juxtaposes-vintage-allure-with-handcrafted-perfection\n",
      "https://republicworld.com/lifestyle/food/dive-into-these-crisp-fresh-and-flavourful-herby-paneer-parcels\n",
      "https://republicworld.com/lifestyle/the-one-minute-plank-essential-exercises-for-strength\n",
      "https://republicworld.com/lifestyle/sri-sri-ravi-shankar-us-surgeon-general-spread-awareness-about-mental-health\n",
      "https://republicworld.com/lifestyle/himachal-pradesh-this-himalayan-town-is-attracting-globetrotters-in-2024\n",
      "https://republicworld.com/lifestyle/fashion/looking-for-a-celeb-inspired-karwa-chauth-look-don-alia-bhat-s-sindoori-saree\n",
      "https://republicworld.com/lifestyle/try-this-bebo-inspired-post-dusshera-festive-look\n",
      "https://republicworld.com/lifestyle/food/high-tea-sounds-better-with-scrumptious-blueberry-cream-scone-check-recipe\n",
      "https://republicworld.com/lifestyle/fitness/5-times-you-should-avoid-stepping-on-a-weighing-scale\n",
      "https://republicworld.com/health/does-drinking-water-before-meals-help-you-lose-weight-lets-find-out\n",
      "https://republicworld.com/health/world-sight-day-2024-history-date-theme-significance-and-more\n",
      "https://republicworld.com/health/reverse-your-nonalcoholic-fatty-liver-disease-with-these-essential-lifestyle-and-diet-tips\n",
      "https://republicworld.com/health/world-mental-health-day-2024-theme-significance-and-mantras-to-reduce-stress\n",
      "https://republicworld.com/health/why-should-consider-these-tips-to-bolster-your-iron-intake\n",
      "https://republicworld.com/health/sleep-more-soundly-follow-these-lifestyle-changes-to-silence-snoring\n",
      "https://republicworld.com/health/how-to-protect-yourself-from-october-heat\n",
      "https://republicworld.com/health/the-toxic-connection-between-sugar-and-the-liver\n",
      "https://republicworld.com/health/6-cooldown-exercises-to-relax-your-muscle-tension-after-strenuous-workout\n",
      "https://republicworld.com/health/5-types-of-nuts-to-boost-energy-and-reduce-high-cholesterol-risk\n",
      "https://republicworld.com/health/morning-drinks-you-must-try-for-constipation-relief\n",
      "https://republicworld.com/health/discover-why-professional-athletes-are-obsessed-with-ice-bath-know-the-incredible-benefits\n",
      "https://republicworld.com/health/tattoos-really-increase-the-risk-of-cancer\n",
      "https://republicworld.com/health/did-ozempic-work-for-british-comedian-james-corden\n",
      "https://republicworld.com/health/liver-causes-66-deaths-in-india-central-government\n",
      "https://republicworld.com/health/paracetamol-fails-safety-check-in-india-research-shows-tablet-link-with-liver-damage\n",
      "https://republicworld.com/sports/cricket/rishabh-pant-reflects-on-rohit-sharma-s-major-verdict-i-didn-t-realize-how-significant-it-was\n",
      "https://republicworld.com/viral/unbelievable-video-of-world-s-narrowest-road-with-traffic-signal-goes-viral-watch\n",
      "https://republicworld.com/india/muda-chief-k-marigowda-resignation-bjp-intensifies-attack-on-congress-muda-land-scam-siddaramaiah-questions-timing-of-marigowda-quitting\n",
      "https://republicworld.com/sports/hockey/latest-news-i-was-on-the-edge-of-my-seat-harmanpreet-singh-on-being-purchased-by-soorma-hockey-club-for-hil\n",
      "https://republicworld.com/sports/football/thomas-tuchel-appointed-as-new-england-manager-to-lead-three-lions-ambitions-in-2026-world-cup\n",
      "https://republicworld.com/sports/cricket/india-vs-new-zealand-live-cricket-score-updates-1st-test-cricket-match-today-live-streaming-ind-vs-nz-2024-latest-cricket-scorecard-live-news\n",
      "https://republicworld.com/sports/cricket/babar-azam-s-heartwarming-reaction-to-kamran-ghulam-s-maiden-test-century-during-pak-nz-goes-viral-latest-news\n",
      "https://republicworld.com/india/da-hike-seventh-pay-commission-ahead-of-diwali-chhattisgarh-announces-4-dearness-allowance-hike-for-state-govt-employees\n",
      "https://republicworld.com/india/chhattisgarh-bjp-mla-s-son-booked-on-charges-of-assaulting-tribal-man\n",
      "https://republicworld.com/india/kerala-human-rights-commission-launches-probe-into-adm-s-death-seeks-report-on-alleged-harassment\n",
      "https://republicworld.com/galleries/sports/latest-news-the-top-5-highest-paid-footballers-across-europes-top-5-leagues\n",
      "https://republicworld.com/sports/football/could-be-my-last-lionel-messi-makes-a-gigantic-claim-on-his-future-after-argentina-vs-bolivia\n",
      "https://republicworld.com/india/man-held-for-misbehaving-with-woman-medico-on-train-in-kerala\n",
      "https://republicworld.com/info/live-kerala-lottery-result-03102024-karunya-plus-kn-543-draw-out-1st-prize-ticket-no-live-news\n",
      "https://republicworld.com/india/jammu-and-kashmir-oath-ceremony-live-updates-omar-abdullah-to-take-oath-ceremony-2024-live-cm-guest-list-live-news\n",
      "https://republicworld.com/elections/nayab-singh-saini-elected-as-bjp-legislature-party-leader-to-take-oath-on-october-17\n",
      "https://republicworld.com/entertainment/celebrities/bado-badi-singer-chahat-fateh-ali-khan-s-version-of-tauba-tauba-goes-viral-karan-aujla-says-na-kro\n",
      "https://republicworld.com/entertainment/tamil-cinema/kanguva-producer-predicts-suriya-starrer-will-earn-2000-crore-why-are-you-underestimating\n",
      "https://republicworld.com/entertainment/bollywood/rejected-in-bollywood-in-action-roles-varun-dhawan-credits-south-cinema-for-great-opportunities\n",
      "https://republicworld.com/entertainment/celebrities/rajkummar-rao-patralekhaa-host-inception-actor-joseph-gordon-levitt-in-mumbai-photos\n",
      "https://republicworld.com/entertainment/television/indian-idol-15-judge-vishal-dadlani-interrupts-contestant-mimicking-atif-aslam-hotel-mein-gaate\n",
      "https://republicworld.com/entertainment/ott/devara-on-ott-jr-ntr-saif-ali-khan-janhvi-kapoor-s-500-grosser-s-streaming-details-out\n",
      "https://republicworld.com/entertainment/bollywood/ranbir-kapoor-looks-dapper-in-new-haircut-by-aalim-hakim-fans-say-it-s-for-dhoom-4\n",
      "https://republicworld.com/entertainment/bollywood/munjya-star-sharvari-opens-up-about-male-domination-in-movies-it-s-not-about\n",
      "https://republicworld.com/entertainment/television/deepika-singh-claps-back-at-her-haters-giving-you-a-chance-to-deflate-me\n",
      "https://republicworld.com/entertainment/tamil-cinema/not-rajnikanth-kanguva-producer-takes-a-dig-at-akshay-kumar-with-box-office-non-performer-remark-khel-khel-mein\n",
      "https://republicworld.com/entertainment/bollywood/unfazed-by-jigra-controversy-alia-bhatt-s-co-star-vedang-raina-parties-with-rumoured-girlfriend-khushi-kapoor-boney-kapoor-photos\n",
      "https://republicworld.com/education/ugc-net-june-2024-result-live-updates-scorecards-today-check-steps-to-download-csir-ugc-net-june-2024-result-on-ugcnetntaacin-live-news\n",
      "https://republicworld.com/education/ratan-tata-maharashtra-state-skill-university-to-be-named-padma-vibhushan-ratan-tata-maharashtra-state-skill-university-breaking\n",
      "https://republicworld.com/education/pm-internship-scheme-2024-registration-opens-today-check-how-to-apply\n",
      "https://republicworld.com/education/rrb-ntpc-recruitment-2024-application-deadlines-extended-for-graduate-and-undergraduate-posts\n",
      "https://republicworld.com/education/ssc-releases-cgl-answer-key-2024-for-tier-i-released-at-sscgovin\n",
      "https://republicworld.com/education/dalit-student-iit-admission-up-to-register-premier-institutes-for-scholarship-disbursal-to-students\n",
      "https://republicworld.com/education/bteup-result-2024-announced-scrutiny-results-available-online\n",
      "https://republicworld.com/education/pm-internship-scheme-goes-live-all-you-need-to-know\n",
      "https://republicworld.com/education/zell-education-signs-mou-with-sangam-university-to-offer-acca-program-for-accounts-finance-students\n",
      "https://republicworld.com/education/admissions/telangana-neet-ug-counselling-2024-round-1-seat-allotment-results-out-here-s-link\n",
      "https://republicworld.com/education/school-holidays-in-october-2024-check-complete-schedule-of-school-closures\n",
      "https://republicworld.com/education/jobs/mp-tet-2024-registration-begins-today-here-s-how-to-apply\n",
      "https://republicworld.com/education/exam-results/ugc-net-result-2024-out-date-latest-updates\n",
      "https://republicworld.com/education/exam-results/ts-dsc-results-2024-out-here-s-direct-link-to-check-know-what-s-next\n",
      "https://republicworld.com/education/delhi-govt-orders-special-audit-of-12-du-colleges-over-financial-irregularities\n",
      "https://republicworld.com/education/adre-exam-2024-2nd-phase-exam-for-assam-govt-s-grade-iii-posts-today-check-timings-guidelines-mobile-internet-suspended\n",
      "https://republicworld.com/education/cbse-orders-schools-to-install-cctv-cameras-inside-examination-centres-during-10-12-board-exams\n",
      "https://republicworld.com/education/cyber-attacks-on-indian-education-sector-surpasses-global-weekly-average-of-3355-report\n",
      "https://republicworld.com/education/exam-results/ibps-rrb-clerk-prelims-result-2024-out-here-s-direct-link-to-check\n",
      "https://republicworld.com/education/uppsc-umo-admit-card-2024-out-for-screening-test-here-s-how-to-download\n",
      "https://republicworld.com/india/naveen-patnaik-turns-78-odisha-cm-dharmendra-pradhan-greets-former-cm\n",
      "https://republicworld.com/india/karnataka-rains-paralyse-rail-operations-several-trains-cancelled-check-details\n",
      "https://republicworld.com/sports/cricket/tendulkar-s-presence-makes-evening-memorable-for-ncl-champions-chicago-cricket-club\n",
      "https://republicworld.com/sports/formula-1/latest-news-its-normally-a-6-am-phone-call-liam-lawson-recalls-working-with-helmut-marko-in-early-years\n",
      "https://republicworld.com/sports/cricket/women-s-t20-wc-semi-final-australia-start-overwhelming-favourites-against-south-africa\n",
      "https://republicworld.com/sports/cricket/wi-beat-england-by-6-wickets-enter-women-s-t20-wc-semifinals\n",
      "https://republicworld.com/sports/cricket/rain-delays-toss-for-first-test-between-india-and-new-zealand\n",
      "https://republicworld.com/sports/football/mexico-stops-7-game-winless-streak-against-the-us-wins-friendly-2-0-on-goals-by-jimenez-and-huerta\n",
      "https://republicworld.com/sports/football/big-bag-of-sht-manchester-united-legend-lambaste-the-club-for-disrespecting-sir-alex-ferguson\n",
      "https://republicworld.com/sports/cricket/latest-news-who-is-indias-richest-cricketer-having-a-net-worth-more-than-kohli-dhoni-and-pandya-combined\n",
      "https://republicworld.com/sports/cricket/sanju-samson-to-make-test-debut-soon-here-s-what-rohit-sharma-gautam-gambhir-said-to-rr-star-latest-news\n",
      "https://republicworld.com/world-news/johnson-johnson-told-to-pay-15-million-to-man-who-says-its-talc-caused-his-cancer-baby-powder\n",
      "https://republicworld.com/world-news/un-calls-for-investigation-over-israeli-strikes-in-northern-lebanon\n",
      "https://republicworld.com/world-news/us-warns-israel-boost-humanitarian-aid-into-gaza-or-risk-losing-weapons-funding\n",
      "https://republicworld.com/world-news/worlds-largest-cargo-plane-beluga-xl-leaves-kolkata-after-second-visit-in-a-week\n",
      "https://republicworld.com/world-news/comet-of-the-century-stunning-timelapse-video-captures-rare-80000-year-event\n",
      "https://republicworld.com/world-news/mohammed-al-ghamdi-saudi-cartoonist-sentenced-to-23-years-in-prison-for-alleged-dissent-against-the-kingdom-mohammed-bin-salman\n",
      "https://republicworld.com/world-news/canadian-minister-laughing-during-serious-discussion-over-india-canada-relations-video\n",
      "https://republicworld.com/world-news/breaking-north-carolina-governor-mark-robinson-sues-cnn-over-report-about-posts-on-porn-site\n",
      "https://republicworld.com/world-news/sri-lankan-president-to-visit-india-after-parliamentary-polls\n",
      "https://republicworld.com/world-news/a-hong-kong-zoo-seeks-answers-after-9-monkeys-die-in-2-days\n",
      "https://republicworld.com/world-news/6-kids-2-women-among-15-killed-overnight-in-israeli-strikes-on-southern-gaza\n",
      "https://republicworld.com/world-news/breaking-pakistan-terror-attack-5-suicide-bombers-4-police-officials-killed-in-terror-attack-in-bannu-city-ahead-of-sco-summit-in-islamabad\n",
      "https://republicworld.com/world-news/north-korea-blows-up-parts-of-inter-korean-roads-as-tensions-with-south-korea-soars\n",
      "https://republicworld.com/elections/maharashtra-elections-big-jolt-to-congress-as-gen-secy-javed-shroff-joins-ajit-pawar-s-ncp\n",
      "https://www.republicbiz.com/companies/adani-green-calls-off-planned-dollar-bond-sale-sources-say\n",
      "https://www.republicbiz.com/market/sensex-nifty-open-lower-following-global-market-trends-it-auto-stocks-lag\n",
      "https://www.republicbiz.com/market/sebi-raises-position-limits-for-trading-members-in-index-fo\n",
      "https://republicworld.com/economy/policy/ecb-criticised-for-hesitant-rate-hikes-that-fueled-inflation-study-claims\n",
      "https://republicworld.com/technology/6g-standards-regulations-must-ensure-inclusivity-for-all-scindia\n",
      "https://republicworld.com/technology/youtube-videos-helped-baba-siddiques-assassins-learn-how-to-shoot\n",
      "https://republicworld.com/money/real-estate/record-office-demand-seen-in-2024-gross-leasing-to-cross-80-mn-sq-ft-in-top-8-cities-cw\n",
      "https://republicworld.com/market/ipo/hyundais-ipo-is-a-big-test-for-gilded-markets\n",
      "https://republicworld.com/market/ipo/watch-all-you-need-to-know-about-hyundai-motor-s-ipo\n",
      "https://republicworld.com/auto/hyundai-ipo-from-launching-santro-to-bringing-ipo-journey-of-hyundai-motors-in-india-so-far\n",
      "https://republicworld.com/industry/aviation/centre-deploys-additional-air-marshals-in-sensitive-routes-amid-surge-in-bomb-threats\n",
      "https://republicworld.com/economy/infra/india-s-upcoming-high-speed-expressways\n",
      "https://republicworld.com/money/sukanya-samriddhi-yojana-7-points-to-note\n",
      "https://republicworld.com/technology/intel-amd-team-up-to-confront-rising-challenge-from-arm\n",
      "https://republicworld.com/top-voice/how-india-is-leading-the-web3-revolution\n",
      "https://republicworld.com/companies/indigo-ventures-secures-sebi-nod-for-corporate-venture-fund\n",
      "https://republicworld.com/companies/samsung-india-workers-strike-called-off-after-amicable-resolution\n",
      "https://republicworld.com/companies/government-takes-stand-against-greenwashing-with-new-consumer-protection-guidelines\n",
      "https://republicworld.com/economy/trumps-economic-strategy-centers-on-tariffs-and-tax-cuts\n",
      "https://republicworld.com/money/personal-finance/know-why-you-should-add-a-nominee-to-your-bank-account\n",
      "https://republicworld.com/market/shares/sebi-to-auction-15-properties-of-five-companies-on-nov-19\n",
      "https://republicworld.com/economy/diplomatic-row-unlikely-to-impact-trade-and-investment-ties-govt-sources\n",
      "https://republicworld.com/money/personal-finance/know-how-to-apply-for-a-pan-card-online-in-just-a-few-steps\n",
      "https://republicworld.com/auto/india-needs-to-increase-manufacturing-to-meet-viksit-bharat-goal-volvo-group-india-md\n",
      "https://republicworld.com/money/loans/self-employed-here-are-7-expert-tips-to-easily-secure-a-personal-loan\n",
      "https://republicworld.com/industry/dpiit-relaxes-quality-control-order-for-cookware-utensils-for-micro-units\n",
      "https://republicworld.com/news/no-auction-of-satellite-spectrum-says-govt-amid-musk-ambani-tussle\n",
      "https://republicworld.com/auto/jaguar-land-rover-retail-sales-surge-by-36-in-april-september-2024-records-3214-units\n",
      "https://republicworld.com/videos/nirmala-sitharaman-speaks-to-arnab-on-pm-modi-s-100-day-report-card-nation-wants-to-know\n",
      "https://republicworld.com/videos/watch-why-did-the-rupee-hit-a-record-low-against-the-us-dollar\n",
      "https://republicworld.com/videos/how-to-start-sip-for-1-crore-goal-sip-strategy-for-reaching-first-1-crore\n",
      "https://republicworld.com/videos/who-is-noel-tata-inside-the-life-of-tata-s-new-chairman\n",
      "https://republicworld.com/videos/interview/economist-sanjeev-sanyal-on-the-economic-decay-of-west-bengal-and-punjab\n",
      "https://republicworld.com/videos/interview/indias-strength-is-digital-economy-holds-huge-potential-for-trade-wto-chief-economist\n",
      "https://republicworld.com/videos/are-sneakers-a-better-investment-than-traditional-assets\n",
      "https://republicworld.com/videos/apple-appoints-new-cfo-who-is-kevan-parekh-apples-indian-origin-cfo\n",
      "https://republicworld.com/videos/how-can-students-start-investing-in-mutual-funds-republic-business\n",
      "https://republicworld.com/economy/eu-champions-hope-will-slam-into-hard-ma-reality\n",
      "https://republicworld.com/economy/putins-economic-resilience-rests-on-war-addiction\n",
      "https://republicworld.com/economy/old-theories-offer-new-insight-into-global-rivalry\n",
      "https://republicworld.com/economy/china-stimulus-aims-at-its-greatest-wall-of-debt\n",
      "https://republicworld.com/market/sensex-nifty-open-lower-following-global-market-trends-it-auto-stocks-lag\n",
      "https://republicworld.com/market/ipo/waree-energies-sets-ipo-price-band-at-45-discount-to-unlisted-price\n",
      "https://republicworld.com/market/chip-stocks-lead-asian-markets-lower-china-in-focus\n",
      "https://republicworld.com/market/sebi-raises-position-limits-for-trading-members-in-index-fo\n",
      "https://republicworld.com/market/us-dollar-rally-pauses-as-markets-assess-fed-policy-outlook\n",
      "https://republicworld.com/market/us-treasury-yields-dip-after-run-higher-manufacturing-data\n",
      "https://republicworld.com/market/china-stocks-slip-as-investors-wait-on-fiscal-spending\n",
      "https://republicworld.com/market/citigroup-profit-beats-estimates-on-investment-banking-surge\n",
      "https://republicworld.com/money/mutual-funds/how-much-sip-is-needed-to-build-rs-1-crore-heres-what-you-should-know\n",
      "https://republicworld.com/money/sebi-grants-in-principle-approval-to-jio-financial-and-blackrock-for-mutual-fund\n",
      "https://republicworld.com/money/personal-finance/here-s-how-nps-vatsalya-can-grow-your-childs-future-fund\n",
      "https://republicworld.com/money/personal-finance/ops-vs-nps-vs-ups-india-s-pension-puzzle-explained\n",
      "https://republicworld.com/money/personal-finance/7-tips-to-improve-your-credit-score\n",
      "https://republicworld.com/money/personal-finance/how-to-update-your-address-on-your-aadhaar-card-online\n",
      "https://republicworld.com/money/personal-finance/applying-for-your-first-credit-card-heres-what-you-should-know\n",
      "https://republicworld.com/companies/people/goodbye-ratan-tata-your-shoes-will-not-be-easy-to-fill\n",
      "https://republicworld.com/companies/larsen-toubro-secures-order-for-design-construction-of-agra-metro\n",
      "https://republicworld.com/companies/asmls-weakness-flags-limits-of-the-ai-boom\n",
      "https://republicworld.com/companies/adani-green-calls-off-planned-dollar-bond-sale-sources-say\n",
      "https://republicworld.com/companies/earnings/reliance-industries-net-profit-dips-477-yoy-to-rs-16563-crore\n",
      "https://republicworld.com/companies/boeing-may-seek-up-to-25-billion-to-strengthen-finances\n",
      "https://republicworld.com/companies/earnings/hdfc-life-posts-q2-profit-increase-shares-tumble-on-margin-concerns\n",
      "https://republicworld.com/companies/akash-ambani-speech-reliance-jio-chairman-says-ai-will-touch-every-indian-life\n",
      "https://republicworld.com/economy/macros/net-direct-tax-collection-grows-18-pc-to-rs-1125-lakh-cr\n",
      "https://republicworld.com/economy/policy/beijing-and-us-are-set-to-discuss-economic-and-trade-relations-reports\n",
      "https://republicworld.com/economy/fed-sees-no-hurry-to-cut-rates-as-confidence-in-economy-grows-powell-says\n",
      "https://republicworld.com/economy/trai-chief-consultation-to-consider-all-inputs-on-satellite-spectrum\n",
      "https://republicworld.com/economy/macros/rbi-compares-inflation-to-a-horse-to-be-kept-on-tight-leash\n",
      "https://republicworld.com/economy/policy/rbi-governor-shaktikanta-das-projects-inflation-to-reach-45-in-fy25\n",
      "https://republicworld.com/economy/china-s-yuan-edges-up-on-hopes-of-more-stimulus\n",
      "https://republicworld.com/economy/us-consumers-anticipate-higher-long-term-inflation-amid-rising-delinquency-risks\n",
      "https://republicworld.com/life/rs-860000-per-seat-coldplay-ticket-scalping-soars-bookmyshow-takes-legal-action\n",
      "https://republicworld.com/life/books/be-financially-smart-helps-you-navigate-the-maze-of-financial-jargon\n",
      "https://republicworld.com/life/air-india-upgrades-delhi-london-flight-experience-with-new-a350-900-aircraft\n",
      "https://republicworld.com/life/boomtime-for-luxe-and-it-s-likely-to-stay\n",
      "https://republicworld.com/life/dolce-gabbanas-rs-9000-dog-perfume-a-paw-some-idea-or-just-a-smelly-cash-grab\n",
      "https://republicworld.com/economy/energy/adani-green-delays-12-billion-bond-sale-as-market-worries-mount\n",
      "https://republicworld.com/economy/economist-sanjeev-sanyals-big-reveal-on-indian-states-who-is-delivering-what\n",
      "https://republicworld.com/interview/india-is-becoming-a-spender-investor-economy-says-som-kapoor-of-ey\n",
      "https://republicworld.com/interview/before-swimming-learn-to-swim-ace-investor-nilesh-shahs-exclusive-trading-insights\n",
      "https://republicworld.com/interview/indias-strength-is-its-digital-economy-holds-huge-potential-for-trade-wto-chief-economist\n",
      "https://republicworld.com/interview/sensex-could-hit-200000-mobius-bullish-on-india-s-economic-rise-under-modi-30\n",
      "https://republicworld.com/interview/easy-for-indian-entrepreneurs-to-go-global-ritesh-agarwal\n",
      "https://republicworld.com/web-stories/life/barack-and-michelle-obama-celebrate-32nd-wedding-anniversary\n",
      "https://republicworld.com/web-stories/money/7-countries-with-zero-income-tax\n",
      "https://republicworld.com/auto/domestic-passenger-vehicle-sales-to-grow-between-3-5-this-fiscal-siam\n",
      "https://republicworld.com/auto/tata-motors-to-mahindra-top-3-electric-vehicle-makers-with-highest-sales-in-september-2024\n",
      "https://republicworld.com/auto/low-cost-hybrid-tech-provides-renault-breathing-space-in-challenging-ev-transition\n",
      "https://republicworld.com/auto/atul-auto-s-subsidary-partners-with-jio-platforms-for-ev-solutions\n",
      "https://republicworld.com/auto/vehicle-scrappage-in-india-here-are-quick-steps-for-scrapping-the-vehicles\n",
      "https://republicworld.com/auto/maruti-suzuki-fronx-crosses-2-lakh-sales-mark-in-17-months-since-its-launch-in-april-2023\n",
      "https://republicworld.com/auto/applying-for-a-new-fastag-here-are-5-steps-to-register-for-a-new-fastag-in-india\n",
      "https://republicworld.com/auto/planning-a-road-trip-here-are-5-steps-to-prepare-your-car-for-long-road-trips-in-india\n",
      "https://republicworld.com/technology/google-starts-rolling-out-android-15-update-check-top-features\n",
      "https://republicworld.com/technology/apps/apple-hacks-how-to-transfer-photos-videos-from-google-photos-to-icloud-photos\n",
      "https://republicworld.com/technology/samsung-beats-apple-in-q3-global-smartphone-shipments\n",
      "https://republicworld.com/technology/reliance-jio-chairman-akash-ambani-calls-for-data-localisation-incentives-for-ai-data-centres\n",
      "https://republicworld.com/technology/google-pixel-7-price-drops-to-rs-34999-on-flipkart-but-you-can-additional-rs-2000-off\n",
      "https://republicworld.com/technology/realme-13-pro-gets-a-shiny-purple-colourway-and-rs-3000-discount-offer\n",
      "https://republicworld.com/videos/each-retail-trader-lost-rs-2-lakh-in-the-fo-market-sebi-republic-business\n",
      "https://republicworld.com/videos/make-upi-payments-without-money-in-your-bank-republic-business\n",
      "https://republicworld.com/videos/worst-week-in-two-years-for-indian-markets\n",
      "https://republicworld.com/videos/interview/the-future-of-luxury-in-india-predictions-and-trends-explained-republic-business\n",
      "https://republicworld.com/videos/interview/inside-india-s-booming-luxury-real-estate-market-with-amit-goyal-sotheby-s-republic-business\n",
      "https://republicworld.com/videos/rafale-makers-dassault-aviation-set-up-mro-in-india-atmanirbhar-bharat-push-damroi\n",
      "https://www.republicworld.com/india/jaishankar-in-pakistan-eam-sco-jammu-kashmir-omar-abdullah-chennai-rains-tamil-nadu-murmu-algeria-narendra-modi-mk-stalin-aap-bjp-congress-doctors-protest-kolkata-rape-case-india-live-news-updates-today-october-16-live-news\n",
      "https://www.republicworld.com/india/flights-receive-bomb-threats-in-last-48-hours-security-tightened-air-india-akasa-indigo-spicejet-alliance-air-air-india-express\n",
      "https://www.republicworld.com/india/breaking-bengaluru-bound-akasa-air-flight-returns-to-delhi-after-bomb-threat\n",
      "https://www.republicworld.com/india/indigo-mumbai-delhi-flight-diverted-to-ahmedabad-after-bomb-threat\n",
      "https://www.republicworld.com/india/hoax-bomb-threats-to-flights-chhattisgarh-teen-father-summoned-by-mumbai-cops\n",
      "https://www.republicworld.com/india/air-india-express-flight-makes-emergency-landing-at-ayodhya-airport-following-bomb-threat\n",
      "https://www.republicworld.com/world-news/canadian-spy-agency-chief-cited-pakistans-support-to-khalistani-extremism-just-weeks-ago-i-watch-india-canada-row-nijjar-killing\n",
      "https://www.republicworld.com/world-news/nijjar-killing-india-canada-diplomatic-row-after-hollow-allegations-shutdown-calls-for-indian-missions-in-vancouver-toronto\n",
      "https://www.republicworld.com/india/breaking-news-k-marigowda-resigns-siddaramaiah-muda-scam-karnataka-news-latest-live-updates\n",
      "https://www.republicworld.com/india/7th-pay-commission-dearness-allowance-3-percent-hike-for-central-government-employees-cleared-ahead-of-diwali\n",
      "https://www.republicworld.com/india/breaking-congress-not-part-of-omar-abdullah-led-cabinet-in-jk-to-support-from-outside\n",
      "https://www.republicworld.com/india/breaking-chief-election-commissioner-rajiv-kumar-s-helicopter-makes-emergency-landing-in-uttarakhand\n",
      "https://www.republicworld.com/world-news/s-jaishankar-s-morning-stroll-with-indian-high-commission-members-in-pakistan-see-pic\n",
      "https://www.republicworld.com/india/bengaluru-rains-live-updates-schools-shut-wfh-advisory-for-it-firms-private-companies-tech-parks-amid-orange-alert-bangalore-heavy-traffic-snarls\n",
      "https://www.republicworld.com/world-news/inappropriate-us-raises-concerns-over-bomb-threats-to-air-india\n",
      "https://www.republicworld.com/world-news/jagmeet-singh-calls-for-sanctions-on-indian-envoys-exits-room-to-sound-of-roaring-laughter-video\n",
      "https://www.republicworld.com/india/rape-accused-granted-bail-by-allahabad-hc-after-he-promises-to-marry-victim-take-care-of-infant\n",
      "https://www.republicworld.com/india/this-is-not-political-matter-sc-raps-punjab-haryana-govt-over-non-compliance-in-stubble-burning\n",
      "https://www.republicworld.com/india/breaking-massive-fire-breaks-out-at-a-14-storey-riya-palace-building-in-mumbai-lokhandwala-3-injured\n",
      "https://www.republicworld.com/india/bengaluru-rains-city-weather-today-warning-areas-to-avoid-check-traffic-diversions\n",
      "https://www.republicworld.com/india/i-am-amazed-israeli-ambassador-visits-ram-temple-in-ayodhya-praises-indian-culture\n",
      "https://www.republicworld.com/world-news/it-s-a-smart-thing-to-do-trump-indicates-speaking-to-russian-prez-putin-could-benefit-us\n",
      "https://www.republicworld.com/world-news/israel-strikes-southern-suburbs-of-beirut-for-the-first-time-in-five-days\n",
      "https://www.republicworld.com/entertainment/tamil-cinema/rajinikanth-s-poes-garden-house-in-chennai-flooded-video-goes-viral\n",
      "https://www.republicworld.com/viral/watch-fake-cop-tries-to-scam-woman-for-50000-in-mumbai-video-goes-viral\n",
      "https://www.republicworld.com/viral/german-ambassador-celebrates-new-ev-switch-with-nimbu-mirchi-and-coconut-watch\n",
      "https://www.republicworld.com/india/five-workers-die-from-asphyxiation-while-cleaning-tank-at-gujarat-agrotech-firm\n",
      "https://www.republicworld.com/videos/sports/ashwin-bumrah-pant-shine-in-india-win\n",
      "https://www.republicworld.com/videos/sports/football/football-star-owns-up-fifa-qualifiers\n",
      "https://www.republicworld.com/entertainment/bollywood/karwa-chauth-2024-anant-ambani-radhika-merchant-to-aditi-rao-siddharth-newlyweds-prepare-for-1st-celebration\n",
      "https://www.republicworld.com/entertainment/bollywood/ananya-panday-shades-ex-aditya-roy-kapur-with-her-head-turning-accessory-at-ctrl-success-bash-photos\n",
      "https://www.republicworld.com/entertainment/meet-nandu-aka-ajay-pal-akshay-kumar-s-co-star-in-anti-smoking-ad-and-the-actor-in-every-movie-cbfc\n",
      "https://www.republicworld.com/entertainment/bollywood/citadel-honey-bunny-meet-the-child-artist-playing-young-priyanka-chopra-in-varun-dhawan-samantha-ruth-prabhu-starrer-kashvi-majmundar\n",
      "https://www.republicworld.com/sports/cricket/latest-news-controversy-engulfs-ind-vs-nz-womens-t20-world-cup-match-umpire-decision-agonises-harmanpreet-kaur\n",
      "https://www.republicworld.com/india/bihar-bypoll-tarari-candidate-lieutenant-general-krishna-singh-ex-army-vice-chief-named-jan-suraaj-bypoll-prashant-kishore-party\n",
      "https://www.republicworld.com/india/fake-call-centre-used-for-cybercrime-busted-in-odisha-s-sundarpada-six-detained\n",
      "https://www.republicworld.com/india/car-plunges-into-deep-gorge-in-himchal-s-shimla-3-dead\n",
      "https://www.republicworld.com/india/bahraich-violence-no-internet-for-third-day-security-beefed-up-along-nepal-border\n",
      "https://www.republicworld.com/india/man-ends-life-days-after-alleged-assault-for-stalking-girl-abetment-case-registered\n",
      "https://www.republicworld.com/world-news/over-90-killed-50-injured-after-gasoline-tanker-explodes-in-nigeria\n",
      "https://www.republicworld.com/world-news/former-pak-pm-imran-khan-in-dark-jail-cell-denied-family-and-lawyer-visit-ex-wife-jemima-goldsmith\n",
      "https://www.republicworld.com/world-news/canadian-air-force-plane-ferries-stranded-air-india-passengers-from-iqaluit-airport-to-chicago\n",
      "https://www.republicworld.com/world-news/russia-releases-man-whose-daughter-s-drawing-opposed-ukraine-war-envasion-military\n",
      "https://www.republicworld.com/sports/cricket/cricket-australia-announces-the-schedule-for-home-ashes-in-2025-iconic-test-venue-perth-set-for-debut\n",
      "https://www.republicworld.com/sports/football/lionel-messi-matches-cristiano-ronaldo-s-massive-record-after-argentina-s-victory-against-bolivia\n",
      "https://www.republicworld.com/sports/cricket/1st-test-rain-washes-out-opening-session-at-bengaluru\n",
      "https://www.republicworld.com/sports/cricket/virat-kohli-gets-rousing-reception-at-m-chinnaswamy-as-ind-nz-test-gets-delayed-due-to-rain-watch\n",
      "https://www.republicworld.com/sports/cricket/harmanpreet-kaur-to-be-sacked-as-india-captain-after-women-s-t20-wc-debacle-bcci-to-discuss-future-latest-news\n",
      "https://www.republicworld.com/business/adani-green-defers-12-bn-bond-sale\n",
      "https://www.republicworld.com/business/consultation-process-to-consider-all-inputs-take-calibrated-view-trai-chief-on-satcom-spectrum\n",
      "https://www.republicworld.com/business/industry/hyundai-india-s-record-33-bln-ipo-subscribed-18-on-first-day-of-bidding\n",
      "https://www.republicworld.com/business/sensex-opens-240-points-higher-nifty-up-026-following-asian-peers\n",
      "https://www.republicworld.com/business/india-has-opportunity-to-create-most-innovative-products-of-next-generation-boeing-india-president\n",
      "https://www.republicworld.com/business/sunil-mittal-and-ambani-advocated-for-spectrum-purchases-by-satellite-companies\n",
      "https://www.republicworld.com/business/india-less-exposed-to-potential-us-tariff-rises-fitch-ratings\n",
      "https://www.republicworld.com/business/retail-inflation-rose-from-365-in-august-to-549-in-sept\n",
      "https://www.republicworld.com/business/indian-markets-outperform-china-on-returns-over-last-5-yrs-sebi-official\n",
      "https://www.republicworld.com/business/retail-inflation-is-likely-to-surge-to-5-in-september\n",
      "https://www.republicworld.com/shorts/india/iaf-inaugural-landing-navi-mumbai-airport\n",
      "https://www.republicworld.com/shorts/india/vinesh-phogat-feels-good-after-debut-win\n",
      "https://www.republicworld.com/shorts/global/israeli-flag-half-mast-oct-7-anniversary\n",
      "https://www.republicworld.com/shorts/india/man-performs-garba-wearing-modi-mask\n",
      "https://www.republicworld.com/shorts/india/iaf-helicopter-crashes-muzaffarpur-relief-mission\n",
      "https://www.republicworld.com/shorts/entertainment/ananya-panday-spotted-in-conversation-with-film-distributor-anil-thadani\n",
      "https://www.republicworld.com/shorts/global/biden-forgets-pm-modi-name-quad-summit\n",
      "https://www.republicworld.com/shorts/entertainment/pashmina-roshan-spotted-outside-gym-in-no-makeup-look\n",
      "https://www.republicworld.com/shorts/entertainment/kareena-kapoor-steps-out-in-style\n",
      "https://www.republicworld.com/shorts/entertainment/tejasswi-prakash-oozes-summer-vibes-in-floral-midi-dress\n",
      "https://www.republicworld.com/shorts/lifestyle/sonam-kapoor-s-coffee-brown-suit-is-the-perfect-blend-of-style-and-comfort\n",
      "https://www.republicworld.com/shorts/entertainment/kriti-sanon-rocks-chic-jacket-and-top-combo\n",
      "https://www.republicworld.com/shorts/entertainment/siddharth-nigam-flaunts-effortless-style-in-denims\n",
      "https://www.republicworld.com/shorts/lifestyle/kiara-advani-gives-major-fashion-goals-in-blue-co-ord-set\n",
      "https://www.republicworld.com/entertainment/reviews/movies/sector-36-review-vikrant-massey-fails-to-bring-out-horror-in-story-inspired-by-nithari-killings-netflix-surinder-koli-moninder-singh-pandher\n",
      "https://www.republicworld.com/entertainment/bollywood/emergency-release-postponed-what-are-the-sgpc-sikh-portrayal-objections-against-kangana-ranaut-cbfc-censor-board-starrer-movie-ban\n",
      "https://www.republicworld.com/entertainment/ott/web-series/game-of-thrones-iron-throne-replica-sells-for-125-crore-at-auction\n",
      "https://www.republicworld.com/entertainment/television/bigg-boss-18-vivian-dsena-recalls-his-first-meeting-with-wife-nouran-aly-says-4-mahine-wait\n",
      "https://www.republicworld.com/entertainment/celebrities/nick-jonas-jiju-in-danger-desi-fans-worried-for-nick-jonas-after-prague-concert-threat-viral-priyanka-chopra\n",
      "https://www.republicworld.com/entertainment/malayalam-cinema/l2-empuraan-first-look-prithviraj-sukumaran-as-zayed-masood-the-emperor-s-general-is-combat-ready\n",
      "https://www.republicworld.com/entertainment/diljit-dosanjh-net-worth-lover-singer-owns-houses-in-california-toronto-multiple-luxury-cars\n",
      "https://www.republicworld.com/entertainment/ott/vikrant-massey-s-sector-36-revisits-gruesome-nithari-killing-the-true-story-will-give-you-nightmare-surinder-koli-moninder-singh-pandher\n",
      "https://www.republicworld.com/entertainment/bollywood/deepika-padukone-ranveer-singh-reel-to-real-life-couple-reigns-over-bollywood-box-office-ram-leela-bajirao-mastani-padmaavat-83-ranbir-kapoor-alia-bhatt\n",
      "https://www.republicworld.com/web-stories/entertainment/ic-814-the-kandahar-hijack-what-is-the-real-story-of-vijay-varma-starrer\n",
      "https://www.republicworld.com/web-stories/lifestyle/how-to-make-scrumptious-crispy-dry-fruit-malpua-step-by-step-guide\n",
      "https://www.republicworld.com/web-stories/lifestyle/10-ways-to-save-money-on-everyday-purchases\n",
      "https://www.republicworld.com/web-stories/entertainment/karisma-kapoor-grace-the-ramp-as-showstoppers-at-lakme-fashion-week\n",
      "https://www.republicworld.com/web-stories/lifestyle/preparing-your-house-for-diwali-2024-know-dos-and-don-ts-of-cleaning\n",
      "https://www.republicworld.com/web-stories/lifestyle/10-hanging-plants-that-can-improve-air-quality\n",
      "https://www.republicworld.com/web-stories/lifestyle/top-10-countries-where-indians-can-easily-secure-a-visa-without-much-hassle\n",
      "https://www.republicworld.com/web-stories/lifestyle/unique-indian-comfort-soups-to-warm-you-up-this-autumn\n",
      "https://www.republicworld.com/web-stories/entertainment/rajkummar-rao-triptii-dimri-exude-charm-at-vicky-vidya-ka-woh-wala-video-promotions\n",
      "https://www.republicworld.com/web-stories/lifestyle/sloth-to-strafish-world-s-slowest-moving-animals\n",
      "https://www.republicworld.com/web-stories/lifestyle/korean-skin-care-tips-inspired-by-bts-suga-men\n",
      "https://www.republicworld.com/defence/indian-armed-forces/drdo-and-iit-delhi-develop-abhed-bulletproof-jackets-revolutionizing-soldier-protection\n",
      "https://www.republicworld.com/defence/indian-armed-forces/indo-oman-military-exercise-al-najah-v-2024-in-full-swing-with-focus-on-modern-combat-techniques\n",
      "https://www.republicworld.com/defence/indian-armed-forces/how-the-indian-armys-1959-honour-code-shames-odisha-polices-2024-failure-in-defending-women\n",
      "https://www.republicworld.com/defence/indian-armed-forces/air-marshal-amar-preet-singh-appointed-as-next-chief-of-air-staff-to-lead-iaf-from-september-30\n",
      "https://www.republicworld.com/defence/indian-armed-forces/indian-navys-women-officers-set-for-historic-global-circumnavigation-on-insv-tarini\n",
      "https://www.republicworld.com/opinion/pakistan-navy-day-islamabad-s-naval-fleet-still-dependent-on-beijing-for-survival\n",
      "https://www.republicworld.com/opinion/googles-third-place-cloud-business-is-a-winner\n",
      "https://www.republicworld.com/opinion/rss-100-looking-back-looking-forward-ratan-sharda-swayamsevak\n",
      "https://www.republicworld.com/opinion/2024-verdict-restoration-of-balance-or-reiteration-of-continuity\n",
      "https://www.republicworld.com/tech/gadgets/google-announces-new-features-for-pixel-9-series-pixel-8-series-more-top-features\n",
      "https://www.republicworld.com/tech/consultation-process-to-consider-all-inputs-take-calibrated-view-for-satcom-spectrum-trai-chief\n",
      "https://www.republicworld.com/automobile/india-needs-to-step-up-manufacturing-to-meet-viksit-bharat-goal-volvo-group-india-md\n",
      "https://www.republicworld.com/automobile/maruti-suzuki-baleno-regal-edition-launched-for-festive-season-available-across-all-variants\n",
      "https://www.republicworld.com/automobile/jlr-retail-sales-up-36-to-3214-units-in-april-september-2024\n",
      "https://www.republicworld.com/automobile/nitin-gadkari-urges-automobile-industry-to-promote-ethanol-flex-fuels\n",
      "https://www.republicworld.com/tech/adoption-constraints-remain-but-99-pc-indian-biz-see-genai-as-crucial-for-success-survey\n",
      "https://www.republicworld.com/tech/apple-launches-ipad-mini-2024-with-double-storage-faster-chip\n",
      "https://www.republicworld.com/tech/delhi-government-rolls-out-ai-enabled-violation-detection-system-to-enhance-road-safety\n",
      "https://www.republicworld.com/tech/airtel-s-sunil-mittal-joins-ambani-to-pitch-for-satellite-companies-buying-spectrum\n",
      "https://www.republicworld.com/lifestyle/food/pop-grandmas-homemade-caramel-corn-with-just-seven-ingredients\n",
      "https://www.republicworld.com/lifestyle/fashion/who-are-valentina-sampaio-and-alex-consani-meet-victorias-secret-first-trans-women-models\n",
      "https://www.republicworld.com/lifestyle/fashion/victorias-secret-fashion-show-returns-after-5-year-hiatus-blackpinks-lisa-stuns-in-3-sultry-looks\n",
      "https://www.republicworld.com/lifestyle/follow-these-ways-to-avoid-consuming-fake-olive-oil\n",
      "https://www.republicworld.com/lifestyle/festivals/world-students-day-2024-recalling-milestone-contributions-of-dr-apj-abdul-kalam\n",
      "https://www.republicworld.com/health/us-millionaire-bryan-johnson-undergoes-plasma-transformation-calls-it-liquid-gold\n",
      "https://www.republicworld.com/health/cji-dy-chandrachud-discloses-his-daughters-have-nemaline-myopathy-know-about-this-condition\n",
      "https://www.republicworld.com/health/who-approves-bavarian-nordic-s-mpox-vaccine-for-adolescents\n",
      "https://www.republicworld.com/health/keep-these-essential-tips-handy-to-reduce-the-risk-of-uti\n",
      "https://www.republicworld.com/health/world-mental-health-day-2024-tips-to-maintain-healthy-well-being-at-work\n",
      "https://republicworld.com/tech/intel-amd-team-up-to-confront-rising-challenge-from-arm\n",
      "https://republicworld.com/tech/google-announces-android-15-check-top-features-availability\n",
      "https://republicworld.com/tech/apps/iphone-hacks-how-to-transfer-all-images-from-google-photos-to-icloud-photos\n",
      "https://republicworld.com/tech/samsung-locks-horns-with-apple-as-global-smartphone-shipments-rise\n",
      "https://republicworld.com/tech/reliance-jio-chairman-akash-ambani-calls-for-data-localisation-incentives-for-ai-data-centres\n",
      "https://republicworld.com/tech/fundraise-allowed-vi-to-start-capex-cycle-places-telco-on-secure-footing-kumar-mangalam-birla\n",
      "https://republicworld.com/tech/india-set-to-lead-global-6g-revolution-communications-minister-jyotiraditya-scindia\n",
      "https://republicworld.com/tech/gadgets/realme-p1-speed-5g-launched-in-india-with-50mp-camera-oled-display-top-features-india-price\n",
      "https://republicworld.com/tech/reliance-jio-launches-jiobharat-v3-v4-phones-at-india-mobile-congress\n",
      "https://republicworld.com/tech/gaming/india-to-have-700-million-gamers-by-2028-says-meta-india-head-sandhya-devanathan\n",
      "https://republicworld.com/tech/you-must-create-global-standards-for-ai-data-privacy-for-diverse-needs-of-countries-pm-modi\n",
      "https://republicworld.com/tech/google-to-buy-power-for-ai-needs-from-nuclear-reactor-startup-kairos\n",
      "https://republicworld.com/defence/indian-army-to-give-month-long-tribute-to-honour-heroes-of-1962-battle-of-walong\n",
      "https://republicworld.com/defence/global-defence-news/indian-unifil-battalion-stands-firm-amid-israeli-incursion-in-southern-lebanon-urges-de-escalation\n",
      "https://republicworld.com/defence/global-defence-news/war-starts-long-before-the-first-shot-is-fired-says-indian-army-chief-on-israel-s-pager-explosions\n",
      "https://republicworld.com/defence/defence-technology/indian-army-inducts-first-indigenous-submachine-gun-since-insas-rifle\n",
      "https://republicworld.com/defence/with-focus-on-ai-and-ml-first-ever-tri-services-future-warfare-course-to-begin-on-sep-23\n",
      "https://republicworld.com/defence/indian-armed-forces/indian-armys-him-drone-a-thon-2-elevates-high-altitude-combat-capabilities\n",
      "https://republicworld.com/defence/indian-armys-western-command-celebrates-78th-raising-day\n",
      "https://republicworld.com/defence/defence-policy/indias-ambitious-rs-50000-crore-defence-exports-target-to-go-hand-in-hand-with-atmanirbharta\n",
      "https://republicworld.com/defence/indian-armed-forces/india-s-indigenous-zorawar-light-tank-successfully-completes-first-phase-field-firing-trials\n",
      "https://republicworld.com/defence/defence-policy/india-s-advances-military-jointness-with-the-launch-of-amphibious-operations-doctrine\n",
      "https://republicworld.com/defence/indian-armed-forces/vice-chiefs-of-army-navy-and-air-force-make-history-with-joint-flight-in-indigenous-lca-tejas\n",
      "https://republicworld.com/defence/indian-armed-forces/20th-edition-of-military-exercise-yudh-abhyas-commences-with-a-focus-on-counter-terrorism-in-desert\n",
      "https://republicworld.com/defence/core-program-to-be-conducted-for-senior-officers-of-tri-services-from-september-9\n",
      "https://republicworld.com/defence/world-war-ii-veteran-lance-naik-charan-singh-turns-100-army-celebrates-his-birthday-in-himachal\n",
      "https://republicworld.com/defence/iaf-chief-visits-eastern-air-command-reviews-operational-preparedness-in-shillong\n",
      "https://republicworld.com/defence/defence-technology/how-advanced-electronic-fuzes-are-revolutionising-precision-in-modern-warfare\n",
      "https://republicworld.com/defence/india-maldives-hold-defence-dialogue-focusing-on-indian-ocean\n",
      "https://www.republicworld.com/elections/lok-sabha-elections-2024/live-updates-elections-april-30-2024-pm-modi-bjp-nda-indi-alliance/?amp=1\n",
      "https://republicworld.com/india/haryana-polls-ensure-bjp-s-win-in-badshahpur-jawahar-yadav-urges-people-after-ticket-snub\n",
      "https://republicworld.com/india/j-k-polls-congress-chief-karra-files-nomination-from-central-shalteng\n",
      "https://republicworld.com/elections/karndev-kamboj-ex-minister-and-hry-bjp-s-obc-morcha-chief-resigns-from-all-posts\n",
      "https://republicworld.com/india/bjp-first-list-of-67-candidates-for-haryana-assembly-elections-released-check-names-nayab-singh-saini\n",
      "https://republicworld.com/politics/can-go-to-any-extent-bjp-hits-back-at-jharkhand-cm-hemant-soren-over-rat-like-rss-remark\n",
      "https://republicworld.com/politics/bajrang-punia-alleges-death-threats-say-sources-may-lodge-complaint\n",
      "https://republicworld.com/politics/rahul-gandhi-blames-railways-for-practising-caste-system-compares-locopilot-trackman-as-mahadalit\n",
      "https://republicworld.com/politics/suvendu-adhikari-launches-portal-for-voters-unable-to-cast-ballots-in-ls-elections\n",
      "https://republicworld.com/viral/viral-video-aiims-student-claims-he-pays-rs-15-for-room-with-attached-bathroom\n",
      "https://republicworld.com/viral/viral-video-bengaluru-man-attends-client-meeting-at-durga-puja-netizens-react\n",
      "https://republicworld.com/viral/british-influencer-dies-after-falling-from-spain-s-tallest-bridge-while-filming-social-media-stunt\n",
      "https://republicworld.com/viral/video-ramleela-gone-wrong-actors-playing-ram-and-ravan-clash-onstage-in-up-amroha\n",
      "https://republicworld.com/viral/chennai-night-sky-dazzles-with-intense-lightning-strikes-visuals-go-viral-rain-red-alert-update\n",
      "https://republicworld.com/viral/pumpkin-weighing-2471-pounds-wins-california-contest\n",
      "https://republicworld.com/viral/pastry-brought-to-mexico-by-british-miners-is-still-popular-after-200-years\n",
      "https://republicworld.com/viral/bikaner-stolen-suv-from-delhi-found-with-apology-notes-in-a-bizarre-twist\n",
      "https://republicworld.com/viral/hindi-speaking-vegetarian-alcoholic-bengaluru-womans-quirky-criteria-for-flatmate-goes-viral\n",
      "https://republicworld.com/viral/viral-video-ravan-dahan-or-nuclear-test-viral-dussehra-video-leaves-netizens-confused-watch\n",
      "https://republicworld.com/viral/woman-narrowly-escapes-water-tank-fell-from-building-watch\n",
      "https://republicworld.com/viral/ratan-tata-s-diamond-portrait-by-surat-merchant-wins-internet-see-post\n"
     ]
    }
   ],
   "source": [
    "for article in rep_news.articles:\n",
    "    print(article.url)"
   ]
  },
  {
   "cell_type": "code",
   "execution_count": 33,
   "id": "2d0c9dda",
   "metadata": {},
   "outputs": [
    {
     "data": {
      "text/plain": [
       "535"
      ]
     },
     "execution_count": 33,
     "metadata": {},
     "output_type": "execute_result"
    }
   ],
   "source": [
    "rep_news.size()"
   ]
  },
  {
   "cell_type": "code",
   "execution_count": 35,
   "id": "a64f87a7",
   "metadata": {},
   "outputs": [
    {
     "name": "stdout",
     "output_type": "stream",
     "text": [
      "https://republicworld.com/\n",
      "https://republicworld.com/opinion\n",
      "https://republicworld.com/videos\n",
      "https://republicworld.com/lifestyle\n",
      "https://republicworld.com/health\n",
      "https://republicworld.com/latest-news\n",
      "https://republicworld.com/entertainment\n",
      "https://republicworld.com/education\n",
      "https://republicworld.com/india\n",
      "https://republicworld.com/sports\n",
      "https://republicworld.com/world-news\n",
      "https://republicworld.com/rss\n",
      "https://republicworld.com/livetv\n",
      "https://republicworld.com/business\n",
      "https://republicworld.com/shorts\n",
      "https://republicworld.com/polls\n",
      "https://republicworld.com/quick\n",
      "https://republicworld.com/web-stories\n",
      "https://www.republicworld.com\n",
      "https://republicworld.com/tech\n",
      "https://republicworld.com/defence\n",
      "https://republicworld.com/elections\n",
      "https://republicworld.com/viral\n"
     ]
    }
   ],
   "source": [
    "for rep_category in rep_news.category_urls():\n",
    "    print(rep_category)"
   ]
  },
  {
   "cell_type": "code",
   "execution_count": 37,
   "id": "0c6108e6",
   "metadata": {},
   "outputs": [],
   "source": [
    "for rep_feed_url in rep_news.feed_urls():\n",
    "    print(rep_feed_url)"
   ]
  },
  {
   "cell_type": "code",
   "execution_count": 43,
   "id": "31b24c92",
   "metadata": {},
   "outputs": [],
   "source": [
    "first_article = rep_news.articles[0]\n",
    "first_article.download()\n",
    "first_article.parse()"
   ]
  },
  {
   "cell_type": "code",
   "execution_count": 47,
   "id": "aff31b4c",
   "metadata": {},
   "outputs": [
    {
     "name": "stdout",
     "output_type": "stream",
     "text": [
      "Sky Marshals On Flights To Be Doubled Amid Growing Bomb Threats\n"
     ]
    }
   ],
   "source": [
    "print(first_article.text)"
   ]
  },
  {
   "cell_type": "code",
   "execution_count": 48,
   "id": "9e878e8b",
   "metadata": {},
   "outputs": [
    {
     "data": {
      "text/plain": [
       "['Victoria Secret Fashion Show 2024',\n",
       " 'Mexico vs USA',\n",
       " 'Argentina vs Bolivia',\n",
       " 'Red Flag fire weather warning',\n",
       " 'México  Estados Unidos',\n",
       " 'Argentina  Bolivia',\n",
       " 'Mbappe',\n",
       " 'Cher',\n",
       " 'Derek Hough',\n",
       " 'DEI',\n",
       " 'Ted Cruz',\n",
       " 'ASML',\n",
       " 'Meat recalled listeria',\n",
       " 'Charlamagne Tha God',\n",
       " 'Bruins',\n",
       " 'Mike Williams',\n",
       " 'Joe Rogan',\n",
       " 'Russell Wilson',\n",
       " 'Olivia Rodrigo',\n",
       " 'Cam Akers']"
      ]
     },
     "execution_count": 48,
     "metadata": {},
     "output_type": "execute_result"
    }
   ],
   "source": [
    "newspaper.hot()"
   ]
  },
  {
   "cell_type": "code",
   "execution_count": 49,
   "id": "4e08ca4d",
   "metadata": {
    "scrolled": true
   },
   "outputs": [
    {
     "name": "stdout",
     "output_type": "stream",
     "text": [
      "\n",
      "Your available languages are:\n",
      "\n",
      "input code\t\tfull name\n",
      "  uk\t\t\t  Ukrainian\n",
      "  fi\t\t\t  Finnish\n",
      "  pl\t\t\t  Polish\n",
      "  sr\t\t\t  Serbian\n",
      "  ro\t\t\t  Romanian\n",
      "  fr\t\t\t  French\n",
      "  sw\t\t\t  Swahili\n",
      "  vi\t\t\t  Vietnamese\n",
      "  nl\t\t\t  Dutch\n",
      "  ar\t\t\t  Arabic\n",
      "  el\t\t\t  Greek\n",
      "  nb\t\t\t  Norwegian (Bokmål)\n",
      "  sv\t\t\t  Swedish\n",
      "  no\t\t\t  Norwegian\n",
      "  en\t\t\t  English\n",
      "  id\t\t\t  Indonesian\n",
      "  de\t\t\t  German\n",
      "  pt\t\t\t  Portuguese\n",
      "  ko\t\t\t  Korean\n",
      "  hu\t\t\t  Hungarian\n",
      "  hi\t\t\t  Hindi\n",
      "  fa\t\t\t  Persian\n",
      "  ru\t\t\t  Russian\n",
      "  da\t\t\t  Danish\n",
      "  it\t\t\t  Italian\n",
      "  be\t\t\t  Belarusian\n",
      "  tr\t\t\t  Turkish\n",
      "  mk\t\t\t  Macedonian\n",
      "  et\t\t\t  Estonian\n",
      "  ja\t\t\t  Japanese\n",
      "  zh\t\t\t  Chinese\n",
      "  es\t\t\t  Spanish\n",
      "  hr\t\t\t  Croatian\n",
      "  sl\t\t\t  Slovenian\n",
      "  he\t\t\t  Hebrew\n",
      "  bg\t\t\t  Bulgarian\n",
      "\n"
     ]
    }
   ],
   "source": [
    "newspaper.languages()"
   ]
  },
  {
   "cell_type": "code",
   "execution_count": 2,
   "id": "0dca9768",
   "metadata": {},
   "outputs": [],
   "source": [
    "scroll_news = newspaper.build('https://scroll.in/')"
   ]
  },
  {
   "cell_type": "code",
   "execution_count": 3,
   "id": "18605317",
   "metadata": {},
   "outputs": [
    {
     "name": "stdout",
     "output_type": "stream",
     "text": [
      "https://scroll.in/latest/1075041/kerala-court-denies-anticipatory-bail-to-kannur-ex-panchayat-chief-in-suicide-abetment-case\n",
      "https://scroll.in/article/1074904/how-feminine-hygiene-brand-sirona-created-brand-awareness-with-innovative-marketing-strategies\n",
      "https://scroll.in/latest/1075060/third-fir-filed-against-the-hindu-journalist-mahesh-langa-for-allegedly-cheating-businessman\n",
      "https://scroll.in/article/1074959/four-reasons-why-congress-does-not-learn-from-its-electoral-failures-and-what-it-can-do-about-it\n",
      "https://scroll.in/article/1075007/feels-like-i-was-under-hypnosis-how-digital-arrest-scams-dupe-indians-of-their-hard-earned-money\n",
      "https://scroll.in/article/1074941/the-2024-crossword-book-awards-announces-shortlists-in-six-categories-for-its-popular-choice-awards\n",
      "https://scroll.in/article/1074721/science-fiction-jagat-is-frozen-in-stasis-for-100-years-for-a-crime-he-may-not-have-committed\n",
      "https://scroll.in/article/1074914/opinion-how-performative-outrage-on-social-media-is-hampering-indian-muslims\n",
      "https://scroll.in/article/1074777/how-the-invasive-water-hyacinth-is-helping-build-livelihoods-with-an-ecological-bonus\n",
      "https://scroll.in/latest/1075064/election-commission-dismisses-congress-allegations-of-irregularities-in-haryana-elections\n",
      "https://scroll.in/article/1074771/fiction-namyas-privileged-college-life-is-challenged-when-crossing-paths-with-vir-a-village-boy\n",
      "https://scroll.in/article/1074821/not-the-rama-were-familiar-with-the-different-ramayanas-across-south-east-asia\n",
      "https://scroll.in/article/1074859/i-was-going-to-be-fine-i-thought-until-i-wasnt-surviving-breast-cancer-and-life-after\n",
      "https://scroll.in/article/1074542/where-is-indias-forgotten-war-headed\n",
      "https://scroll.in/article/1073644/in-ladakh-a-massive-energy-project-is-shrouded-in-mystery\n",
      "https://scroll.in/magazine/1074503/india-can-secure-the-future-of-its-faltering-tea-industry-only-by-learning-from-the-past\n",
      "https://scroll.in/article/1074485/it-was-more-insanity-than-courage-arpita-das-on-what-made-her-start-yoda-press-twenty-years-ago\n",
      "https://scroll.in/reel/1074226/dibakar-banerjee-on-his-shelved-film-tees-not-so-futuristic-after-all\n",
      "https://scroll.in/article/1075035/how-palliative-care-can-improve-quality-of-life-for-terminally-ill-patients-and-their-families\n",
      "https://scroll.in/article/1074961/india-china-thaw-balancing-act-with-west-dilutes-multipolar-aspirations-of-brics-bloc\n",
      "https://scroll.in/article/1074956/ya-fiction-in-19th-century-bengal-kadambini-ganguly-dreams-of-going-to-university-become-a-doctor\n",
      "https://scroll.in/reel/1075001/the-journey-to-shah-rukh-khans-box-office-scorcher-pathaan\n",
      "https://scroll.in/video/1074656/eco-india-can-river-clean-ups-restore-indias-dying-rivers-to-their-natural-glory\n",
      "https://scroll.in/video/1074655/eco-india-episode-272-how-can-we-make-our-urban-oases-fit-for-the-future\n",
      "https://scroll.in/video/1074505/watch-massive-traffic-congestion-cripples-major-roads-in-bengaluru-after-torrential-rain\n",
      "https://scroll.in/video/1074181/video-the-dangers-of-sarkaari-hindutva\n",
      "https://scroll.in/video/1074188/durga-puja-2024-fifteen-community-festivals-in-and-around-kolkata-with-unique-poignant-themes\n"
     ]
    }
   ],
   "source": [
    "for article in scroll_news.articles:\n",
    "    print(article.url)"
   ]
  },
  {
   "cell_type": "code",
   "execution_count": 4,
   "id": "97fad907",
   "metadata": {},
   "outputs": [],
   "source": [
    "scroll_articles_one = scroll_news.articles[0]"
   ]
  },
  {
   "cell_type": "code",
   "execution_count": 5,
   "id": "f92e5311",
   "metadata": {},
   "outputs": [
    {
     "name": "stdout",
     "output_type": "stream",
     "text": [
      "<newspaper.article.Article object at 0x7fc7680a0830>\n",
      "<newspaper.article.Article object at 0x7fc7680a0890>\n",
      "<newspaper.article.Article object at 0x7fc7680d3140>\n",
      "<newspaper.article.Article object at 0x7fc7680d31d0>\n",
      "<newspaper.article.Article object at 0x7fc7680a09e0>\n",
      "<newspaper.article.Article object at 0x7fc768cbafc0>\n",
      "<newspaper.article.Article object at 0x7fc768053da0>\n",
      "<newspaper.article.Article object at 0x7fc768fcabd0>\n",
      "<newspaper.article.Article object at 0x7fc7680d1b20>\n",
      "<newspaper.article.Article object at 0x7fc768053b30>\n",
      "<newspaper.article.Article object at 0x7fc7680a02c0>\n",
      "<newspaper.article.Article object at 0x7fc7680a0320>\n",
      "<newspaper.article.Article object at 0x7fc7680d2a20>\n",
      "<newspaper.article.Article object at 0x7fc7680a06e0>\n",
      "<newspaper.article.Article object at 0x7fc7680a01a0>\n",
      "<newspaper.article.Article object at 0x7fc7680a0380>\n",
      "<newspaper.article.Article object at 0x7fc7680a0620>\n",
      "<newspaper.article.Article object at 0x7fc7680a07d0>\n",
      "<newspaper.article.Article object at 0x7fc778561040>\n",
      "<newspaper.article.Article object at 0x7fc7680a0860>\n",
      "<newspaper.article.Article object at 0x7fc7680d3380>\n",
      "<newspaper.article.Article object at 0x7fc7680a09b0>\n",
      "<newspaper.article.Article object at 0x7fc7680a30b0>\n",
      "<newspaper.article.Article object at 0x7fc768053e60>\n",
      "<newspaper.article.Article object at 0x7fc7680d3710>\n",
      "<newspaper.article.Article object at 0x7fc7680d1bb0>\n",
      "<newspaper.article.Article object at 0x7fc7680a38c0>\n"
     ]
    }
   ],
   "source": [
    "for articles in scroll_news.articles:\n",
    "    print(articles)"
   ]
  },
  {
   "cell_type": "code",
   "execution_count": 6,
   "id": "c61efc52",
   "metadata": {},
   "outputs": [],
   "source": [
    "scroll_articles_one.download()\n",
    "scroll_articles_one.parse()"
   ]
  },
  {
   "cell_type": "code",
   "execution_count": 7,
   "id": "ae1f722a",
   "metadata": {},
   "outputs": [
    {
     "data": {
      "text/plain": [
       "'Kerala: Kannur ex-panchayat chief surrenders before police in suicide abetment case'"
      ]
     },
     "execution_count": 7,
     "metadata": {},
     "output_type": "execute_result"
    }
   ],
   "source": [
    "scroll_articles_one.title"
   ]
  },
  {
   "cell_type": "code",
   "execution_count": 8,
   "id": "e8991911",
   "metadata": {},
   "outputs": [
    {
     "data": {
      "text/plain": [
       "['Scroll Staff']"
      ]
     },
     "execution_count": 8,
     "metadata": {},
     "output_type": "execute_result"
    }
   ],
   "source": [
    "scroll_articles_one.authors"
   ]
  },
  {
   "cell_type": "code",
   "execution_count": 9,
   "id": "469ac310",
   "metadata": {},
   "outputs": [
    {
     "ename": "LookupError",
     "evalue": "\n**********************************************************************\n  Resource \u001b[93mpunkt_tab\u001b[0m not found.\n  Please use the NLTK Downloader to obtain the resource:\n\n  \u001b[31m>>> import nltk\n  >>> nltk.download('punkt_tab')\n  \u001b[0m\n  For more information see: https://www.nltk.org/data.html\n\n  Attempted to load \u001b[93mtokenizers/punkt_tab/english/\u001b[0m\n\n  Searched in:\n    - '/home/sangu/nltk_data'\n    - '/home/sangu/anaconda3/nltk_data'\n    - '/home/sangu/anaconda3/share/nltk_data'\n    - '/home/sangu/anaconda3/lib/nltk_data'\n    - '/usr/share/nltk_data'\n    - '/usr/local/share/nltk_data'\n    - '/usr/lib/nltk_data'\n    - '/usr/local/lib/nltk_data'\n**********************************************************************\n",
     "output_type": "error",
     "traceback": [
      "\u001b[0;31m---------------------------------------------------------------------------\u001b[0m",
      "\u001b[0;31mLookupError\u001b[0m                               Traceback (most recent call last)",
      "Cell \u001b[0;32mIn[9], line 1\u001b[0m\n\u001b[0;32m----> 1\u001b[0m scroll_articles_one\u001b[38;5;241m.\u001b[39mnlp()\n",
      "File \u001b[0;32m~/anaconda3/lib/python3.12/site-packages/newspaper/article.py:361\u001b[0m, in \u001b[0;36mArticle.nlp\u001b[0;34m(self)\u001b[0m\n\u001b[1;32m    357\u001b[0m \u001b[38;5;28mself\u001b[39m\u001b[38;5;241m.\u001b[39mset_keywords(keyws)\n\u001b[1;32m    359\u001b[0m max_sents \u001b[38;5;241m=\u001b[39m \u001b[38;5;28mself\u001b[39m\u001b[38;5;241m.\u001b[39mconfig\u001b[38;5;241m.\u001b[39mMAX_SUMMARY_SENT\n\u001b[0;32m--> 361\u001b[0m summary_sents \u001b[38;5;241m=\u001b[39m nlp\u001b[38;5;241m.\u001b[39msummarize(title\u001b[38;5;241m=\u001b[39m\u001b[38;5;28mself\u001b[39m\u001b[38;5;241m.\u001b[39mtitle, text\u001b[38;5;241m=\u001b[39m\u001b[38;5;28mself\u001b[39m\u001b[38;5;241m.\u001b[39mtext, max_sents\u001b[38;5;241m=\u001b[39mmax_sents)\n\u001b[1;32m    362\u001b[0m summary \u001b[38;5;241m=\u001b[39m \u001b[38;5;124m'\u001b[39m\u001b[38;5;130;01m\\n\u001b[39;00m\u001b[38;5;124m'\u001b[39m\u001b[38;5;241m.\u001b[39mjoin(summary_sents)\n\u001b[1;32m    363\u001b[0m \u001b[38;5;28mself\u001b[39m\u001b[38;5;241m.\u001b[39mset_summary(summary)\n",
      "File \u001b[0;32m~/anaconda3/lib/python3.12/site-packages/newspaper/nlp.py:45\u001b[0m, in \u001b[0;36msummarize\u001b[0;34m(url, title, text, max_sents)\u001b[0m\n\u001b[1;32m     42\u001b[0m     \u001b[38;5;28;01mreturn\u001b[39;00m []\n\u001b[1;32m     44\u001b[0m summaries \u001b[38;5;241m=\u001b[39m []\n\u001b[0;32m---> 45\u001b[0m sentences \u001b[38;5;241m=\u001b[39m split_sentences(text)\n\u001b[1;32m     46\u001b[0m keys \u001b[38;5;241m=\u001b[39m keywords(text)\n\u001b[1;32m     47\u001b[0m titleWords \u001b[38;5;241m=\u001b[39m split_words(title)\n",
      "File \u001b[0;32m~/anaconda3/lib/python3.12/site-packages/newspaper/nlp.py:157\u001b[0m, in \u001b[0;36msplit_sentences\u001b[0;34m(text)\u001b[0m\n\u001b[1;32m    154\u001b[0m \u001b[38;5;250m\u001b[39m\u001b[38;5;124;03m\"\"\"Split a large string into sentences\u001b[39;00m\n\u001b[1;32m    155\u001b[0m \u001b[38;5;124;03m\"\"\"\u001b[39;00m\n\u001b[1;32m    156\u001b[0m \u001b[38;5;28;01mimport\u001b[39;00m \u001b[38;5;21;01mnltk\u001b[39;00m\u001b[38;5;21;01m.\u001b[39;00m\u001b[38;5;21;01mdata\u001b[39;00m\n\u001b[0;32m--> 157\u001b[0m tokenizer \u001b[38;5;241m=\u001b[39m nltk\u001b[38;5;241m.\u001b[39mdata\u001b[38;5;241m.\u001b[39mload(\u001b[38;5;124m'\u001b[39m\u001b[38;5;124mtokenizers/punkt/english.pickle\u001b[39m\u001b[38;5;124m'\u001b[39m)\n\u001b[1;32m    159\u001b[0m sentences \u001b[38;5;241m=\u001b[39m tokenizer\u001b[38;5;241m.\u001b[39mtokenize(text)\n\u001b[1;32m    160\u001b[0m sentences \u001b[38;5;241m=\u001b[39m [x\u001b[38;5;241m.\u001b[39mreplace(\u001b[38;5;124m'\u001b[39m\u001b[38;5;130;01m\\n\u001b[39;00m\u001b[38;5;124m'\u001b[39m, \u001b[38;5;124m'\u001b[39m\u001b[38;5;124m'\u001b[39m) \u001b[38;5;28;01mfor\u001b[39;00m x \u001b[38;5;129;01min\u001b[39;00m sentences \u001b[38;5;28;01mif\u001b[39;00m \u001b[38;5;28mlen\u001b[39m(x) \u001b[38;5;241m>\u001b[39m \u001b[38;5;241m10\u001b[39m]\n",
      "File \u001b[0;32m~/anaconda3/lib/python3.12/site-packages/nltk/data.py:823\u001b[0m, in \u001b[0;36mload\u001b[0;34m(resource_url, format, cache, verbose, logic_parser, fstruct_reader, encoding)\u001b[0m\n\u001b[1;32m    821\u001b[0m fil \u001b[38;5;241m=\u001b[39m os\u001b[38;5;241m.\u001b[39mpath\u001b[38;5;241m.\u001b[39msplit(path_[:\u001b[38;5;241m-\u001b[39m\u001b[38;5;241m7\u001b[39m])[\u001b[38;5;241m-\u001b[39m\u001b[38;5;241m1\u001b[39m]\n\u001b[1;32m    822\u001b[0m \u001b[38;5;28;01mif\u001b[39;00m path_\u001b[38;5;241m.\u001b[39mstartswith(\u001b[38;5;124m\"\u001b[39m\u001b[38;5;124mtokenizers/punkt\u001b[39m\u001b[38;5;124m\"\u001b[39m):\n\u001b[0;32m--> 823\u001b[0m     \u001b[38;5;28;01mreturn\u001b[39;00m switch_punkt(fil)\n\u001b[1;32m    824\u001b[0m \u001b[38;5;28;01melif\u001b[39;00m path_\u001b[38;5;241m.\u001b[39mstartswith(\u001b[38;5;124m\"\u001b[39m\u001b[38;5;124mchunkers/maxent_ne_chunker\u001b[39m\u001b[38;5;124m\"\u001b[39m):\n\u001b[1;32m    825\u001b[0m     \u001b[38;5;28;01mreturn\u001b[39;00m switch_chunker(fil\u001b[38;5;241m.\u001b[39msplit(\u001b[38;5;124m\"\u001b[39m\u001b[38;5;124m_\u001b[39m\u001b[38;5;124m\"\u001b[39m)[\u001b[38;5;241m-\u001b[39m\u001b[38;5;241m1\u001b[39m])\n",
      "File \u001b[0;32m~/anaconda3/lib/python3.12/site-packages/nltk/data.py:678\u001b[0m, in \u001b[0;36mswitch_punkt\u001b[0;34m(lang)\u001b[0m\n\u001b[1;32m    668\u001b[0m \u001b[38;5;250m\u001b[39m\u001b[38;5;124;03m\"\"\"\u001b[39;00m\n\u001b[1;32m    669\u001b[0m \u001b[38;5;124;03mReturn a pickle-free Punkt tokenizer instead of loading a pickle.\u001b[39;00m\n\u001b[1;32m    670\u001b[0m \n\u001b[0;32m   (...)\u001b[0m\n\u001b[1;32m    674\u001b[0m \u001b[38;5;124;03m['Hello!', 'How are you?']\u001b[39;00m\n\u001b[1;32m    675\u001b[0m \u001b[38;5;124;03m\"\"\"\u001b[39;00m\n\u001b[1;32m    676\u001b[0m \u001b[38;5;28;01mfrom\u001b[39;00m \u001b[38;5;21;01mnltk\u001b[39;00m\u001b[38;5;21;01m.\u001b[39;00m\u001b[38;5;21;01mtokenize\u001b[39;00m \u001b[38;5;28;01mimport\u001b[39;00m PunktTokenizer \u001b[38;5;28;01mas\u001b[39;00m tok\n\u001b[0;32m--> 678\u001b[0m \u001b[38;5;28;01mreturn\u001b[39;00m tok(lang)\n",
      "File \u001b[0;32m~/anaconda3/lib/python3.12/site-packages/nltk/tokenize/punkt.py:1744\u001b[0m, in \u001b[0;36mPunktTokenizer.__init__\u001b[0;34m(self, lang)\u001b[0m\n\u001b[1;32m   1742\u001b[0m \u001b[38;5;28;01mdef\u001b[39;00m \u001b[38;5;21m__init__\u001b[39m(\u001b[38;5;28mself\u001b[39m, lang\u001b[38;5;241m=\u001b[39m\u001b[38;5;124m\"\u001b[39m\u001b[38;5;124menglish\u001b[39m\u001b[38;5;124m\"\u001b[39m):\n\u001b[1;32m   1743\u001b[0m     PunktSentenceTokenizer\u001b[38;5;241m.\u001b[39m\u001b[38;5;21m__init__\u001b[39m(\u001b[38;5;28mself\u001b[39m)\n\u001b[0;32m-> 1744\u001b[0m     \u001b[38;5;28mself\u001b[39m\u001b[38;5;241m.\u001b[39mload_lang(lang)\n",
      "File \u001b[0;32m~/anaconda3/lib/python3.12/site-packages/nltk/tokenize/punkt.py:1749\u001b[0m, in \u001b[0;36mPunktTokenizer.load_lang\u001b[0;34m(self, lang)\u001b[0m\n\u001b[1;32m   1746\u001b[0m \u001b[38;5;28;01mdef\u001b[39;00m \u001b[38;5;21mload_lang\u001b[39m(\u001b[38;5;28mself\u001b[39m, lang\u001b[38;5;241m=\u001b[39m\u001b[38;5;124m\"\u001b[39m\u001b[38;5;124menglish\u001b[39m\u001b[38;5;124m\"\u001b[39m):\n\u001b[1;32m   1747\u001b[0m     \u001b[38;5;28;01mfrom\u001b[39;00m \u001b[38;5;21;01mnltk\u001b[39;00m\u001b[38;5;21;01m.\u001b[39;00m\u001b[38;5;21;01mdata\u001b[39;00m \u001b[38;5;28;01mimport\u001b[39;00m find\n\u001b[0;32m-> 1749\u001b[0m     lang_dir \u001b[38;5;241m=\u001b[39m find(\u001b[38;5;124mf\u001b[39m\u001b[38;5;124m\"\u001b[39m\u001b[38;5;124mtokenizers/punkt_tab/\u001b[39m\u001b[38;5;132;01m{\u001b[39;00mlang\u001b[38;5;132;01m}\u001b[39;00m\u001b[38;5;124m/\u001b[39m\u001b[38;5;124m\"\u001b[39m)\n\u001b[1;32m   1750\u001b[0m     \u001b[38;5;28mself\u001b[39m\u001b[38;5;241m.\u001b[39m_params \u001b[38;5;241m=\u001b[39m load_punkt_params(lang_dir)\n\u001b[1;32m   1751\u001b[0m     \u001b[38;5;28mself\u001b[39m\u001b[38;5;241m.\u001b[39m_lang \u001b[38;5;241m=\u001b[39m lang\n",
      "File \u001b[0;32m~/anaconda3/lib/python3.12/site-packages/nltk/data.py:579\u001b[0m, in \u001b[0;36mfind\u001b[0;34m(resource_name, paths)\u001b[0m\n\u001b[1;32m    577\u001b[0m sep \u001b[38;5;241m=\u001b[39m \u001b[38;5;124m\"\u001b[39m\u001b[38;5;124m*\u001b[39m\u001b[38;5;124m\"\u001b[39m \u001b[38;5;241m*\u001b[39m \u001b[38;5;241m70\u001b[39m\n\u001b[1;32m    578\u001b[0m resource_not_found \u001b[38;5;241m=\u001b[39m \u001b[38;5;124mf\u001b[39m\u001b[38;5;124m\"\u001b[39m\u001b[38;5;130;01m\\n\u001b[39;00m\u001b[38;5;132;01m{\u001b[39;00msep\u001b[38;5;132;01m}\u001b[39;00m\u001b[38;5;130;01m\\n\u001b[39;00m\u001b[38;5;132;01m{\u001b[39;00mmsg\u001b[38;5;132;01m}\u001b[39;00m\u001b[38;5;130;01m\\n\u001b[39;00m\u001b[38;5;132;01m{\u001b[39;00msep\u001b[38;5;132;01m}\u001b[39;00m\u001b[38;5;130;01m\\n\u001b[39;00m\u001b[38;5;124m\"\u001b[39m\n\u001b[0;32m--> 579\u001b[0m \u001b[38;5;28;01mraise\u001b[39;00m \u001b[38;5;167;01mLookupError\u001b[39;00m(resource_not_found)\n",
      "\u001b[0;31mLookupError\u001b[0m: \n**********************************************************************\n  Resource \u001b[93mpunkt_tab\u001b[0m not found.\n  Please use the NLTK Downloader to obtain the resource:\n\n  \u001b[31m>>> import nltk\n  >>> nltk.download('punkt_tab')\n  \u001b[0m\n  For more information see: https://www.nltk.org/data.html\n\n  Attempted to load \u001b[93mtokenizers/punkt_tab/english/\u001b[0m\n\n  Searched in:\n    - '/home/sangu/nltk_data'\n    - '/home/sangu/anaconda3/nltk_data'\n    - '/home/sangu/anaconda3/share/nltk_data'\n    - '/home/sangu/anaconda3/lib/nltk_data'\n    - '/usr/share/nltk_data'\n    - '/usr/local/share/nltk_data'\n    - '/usr/lib/nltk_data'\n    - '/usr/local/lib/nltk_data'\n**********************************************************************\n"
     ]
    }
   ],
   "source": [
    "scroll_articles_one.nlp()"
   ]
  },
  {
   "cell_type": "code",
   "execution_count": 10,
   "id": "d793aaf4",
   "metadata": {},
   "outputs": [
    {
     "data": {
      "text/plain": [
       "''"
      ]
     },
     "execution_count": 10,
     "metadata": {},
     "output_type": "execute_result"
    }
   ],
   "source": [
    "scroll_articles_one.summary"
   ]
  },
  {
   "cell_type": "code",
   "execution_count": 11,
   "id": "ea2d9121",
   "metadata": {},
   "outputs": [
    {
     "data": {
      "text/plain": [
       "['anticipatory',\n",
       " 'suicide',\n",
       " 'kerala',\n",
       " 'surrenders',\n",
       " 'expanchayat',\n",
       " 'chief',\n",
       " 'case',\n",
       " 'bail',\n",
       " 'remarks',\n",
       " 'abetment',\n",
       " 'district',\n",
       " 'divya',\n",
       " 'event',\n",
       " 'plea',\n",
       " 'kannur',\n",
       " 'panchayat',\n",
       " 'president',\n",
       " 'babu']"
      ]
     },
     "execution_count": 11,
     "metadata": {},
     "output_type": "execute_result"
    }
   ],
   "source": [
    "scroll_articles_one.keywords"
   ]
  },
  {
   "cell_type": "code",
   "execution_count": 13,
   "id": "55c102c8",
   "metadata": {},
   "outputs": [],
   "source": [
    "scroll_articles_one.publish_date"
   ]
  },
  {
   "cell_type": "code",
   "execution_count": 14,
   "id": "9ed5fcb3",
   "metadata": {},
   "outputs": [
    {
     "data": {
      "text/plain": [
       "'Former Kannur District Panchayat President PP Divya surrendered before the Kerala Police on Tuesday, hours after a court denied anticipatory bail to her, The Indian Express reported.\\n\\nDivya, a Communist Party of India (Marxist) member, has been accused of making comments that allegedly drove Naveen Babu, an additional district magistrate, to take his own life.\\n\\nBabu was found dead at his residence on October 15 morning after a farewell event organised on the eve of his transfer to another district. He was to take over as the additional district magistrate of Pathanamthitta and retire in seven months.\\n\\nDuring the event, Divya had made allegations of corruption against Babu in the context of the delay in issuing a no-objection certificate for a petrol pump. The district panchayat president had alleged that Babu only granted no-objection certificates after he was bribed.\\n\\nAfter being accused of abetting the suicide of Babu, Divya was on October 17 sacked from her post.\\n\\nShe had filed an anticipatory bail plea before the Thalassery Sessions Court.\\n\\nIn her application, Divya said that her comments during the farewell event were made in good faith and not meant to pressure Babu, Bar and Bench reported. The remarks were made to encourage administrative efficiency and address concerns regarding corruption raised by other individuals.\\n\\nPublic Prosecutor K Ajith Kumar opposed Divya’s anticipatory bail plea, saying that the remarks amounted to public shaming that could have deeply affected Babu.'"
      ]
     },
     "execution_count": 14,
     "metadata": {},
     "output_type": "execute_result"
    }
   ],
   "source": [
    "scroll_articles_one.text"
   ]
  },
  {
   "cell_type": "code",
   "execution_count": 15,
   "id": "844c8bcc",
   "metadata": {},
   "outputs": [
    {
     "ename": "NameError",
     "evalue": "name 'get_articles' is not defined",
     "output_type": "error",
     "traceback": [
      "\u001b[0;31m---------------------------------------------------------------------------\u001b[0m",
      "\u001b[0;31mNameError\u001b[0m                                 Traceback (most recent call last)",
      "Cell \u001b[0;32mIn[15], line 1\u001b[0m\n\u001b[0;32m----> 1\u001b[0m scroll_articles \u001b[38;5;241m=\u001b[39m  get_articles(scroll_news)\n",
      "\u001b[0;31mNameError\u001b[0m: name 'get_articles' is not defined"
     ]
    }
   ],
   "source": [
    "scroll_articles =  get_articles(scroll_news)"
   ]
  },
  {
   "cell_type": "code",
   "execution_count": 16,
   "id": "569119dc",
   "metadata": {},
   "outputs": [
    {
     "ename": "NameError",
     "evalue": "name 'scroll_articles' is not defined",
     "output_type": "error",
     "traceback": [
      "\u001b[0;31m---------------------------------------------------------------------------\u001b[0m",
      "\u001b[0;31mNameError\u001b[0m                                 Traceback (most recent call last)",
      "Cell \u001b[0;32mIn[16], line 1\u001b[0m\n\u001b[0;32m----> 1\u001b[0m scroll_articles[\u001b[38;5;241m0\u001b[39m]\n",
      "\u001b[0;31mNameError\u001b[0m: name 'scroll_articles' is not defined"
     ]
    }
   ],
   "source": [
    "scroll_articles[0]"
   ]
  },
  {
   "cell_type": "code",
   "execution_count": 17,
   "id": "2260c439",
   "metadata": {},
   "outputs": [
    {
     "data": {
      "text/plain": [
       "240"
      ]
     },
     "execution_count": 17,
     "metadata": {},
     "output_type": "execute_result"
    }
   ],
   "source": [
    "from nltk.tokenize import RegexpTokenizer\n",
    "tokenizer = RegexpTokenizer(r'\\w+')\n",
    "tokens = tokenizer.tokenize(scroll_articles_one.text)\n",
    "len(tokens)"
   ]
  },
  {
   "cell_type": "code",
   "execution_count": 73,
   "id": "1c117ce3",
   "metadata": {},
   "outputs": [],
   "source": [
    "def get_articles(news_source_ob):\n",
    "    articles_list = list()\n",
    "    \n",
    "    for article in news_source_ob.articles:\n",
    "        \n",
    "        article.download()\n",
    "        article.parse()\n",
    "        \n",
    "        article_title = article.title\n",
    "        article_text = article.text\n",
    "        article_date = article.publish_date\n",
    "        article_authors = article.authors\n",
    "        \n",
    "        articles_list.append(dict(title = article_title, \n",
    "                                  author = article_authors, \n",
    "                                  date = article_date, \n",
    "                                  text = article_text))\n",
    "        \n",
    "    return articles_list"
   ]
  },
  {
   "cell_type": "code",
   "execution_count": null,
   "id": "7fb6417e",
   "metadata": {},
   "outputs": [],
   "source": []
  }
 ],
 "metadata": {
  "kernelspec": {
   "display_name": "news-env",
   "language": "python",
   "name": "news-env"
  },
  "language_info": {
   "codemirror_mode": {
    "name": "ipython",
    "version": 3
   },
   "file_extension": ".py",
   "mimetype": "text/x-python",
   "name": "python",
   "nbconvert_exporter": "python",
   "pygments_lexer": "ipython3",
   "version": "3.12.3"
  }
 },
 "nbformat": 4,
 "nbformat_minor": 5
}
